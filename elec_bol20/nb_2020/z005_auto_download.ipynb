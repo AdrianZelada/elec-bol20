{
 "cells": [
  {
   "cell_type": "markdown",
   "metadata": {},
   "source": [
    "# thanks to Joshua :)"
   ]
  },
  {
   "cell_type": "code",
   "execution_count": 35,
   "metadata": {
    "lines_to_next_cell": 2
   },
   "outputs": [],
   "source": [
    "from __future__ import print_function\n",
    "from datetime import datetime, timedelta\n",
    "from os import makedirs, walk\n",
    "from os.path import join, dirname, abspath, sep, exists\n",
    "import time\n",
    "import sys\n",
    "import requests\n",
    "import json\n",
    "import elec_bol20.util as ebu\n",
    "import os"
   ]
  },
  {
   "cell_type": "code",
   "execution_count": 36,
   "metadata": {},
   "outputs": [],
   "source": [
    "SLEEP_SECONDS_PER_LOOP = 10 * 60  # feel free to randomize this, lmao.\n",
    "BASE_DIR = os.path.join(ebu.DATA_PATH0_2020, 'comp')"
   ]
  },
  {
   "cell_type": "markdown",
   "metadata": {},
   "source": [
    "sample response to POST: {\"fecha\":\"18/10/2020 18:53:22\",\"correcto\":true,\"notificacion\":\"Transacción satisfactoria\",\"datoAdicional\":{\"nombreArchivo\":\"exportacion/EG2020_20201018_184655_1350241095801193940.csv\",\"tipoArchivo\":\"CSV\",\"hash\":\"d41d8cd98f00b204e9800998ecf8427e\",\"archivo\":\"https://s3.amazonaws.com/archivo.computo/exportacion/EG2020_20201018_184655_1350241095801193940.csv\",\"fecha\":\"18/10/2020 06:46:55\"}}"
   ]
  },
  {
   "cell_type": "code",
   "execution_count": 37,
   "metadata": {},
   "outputs": [],
   "source": [
    "# sorry, i straight-up copied these while skimming my own outgoing http requests. i'm an idiot, i apologize. i know most don't matter.\n",
    "POST_HEADERS = {\n",
    "    'Accept': \"application/json, text/plain, */*\",\n",
    "    'Accept-Encoding': 'gzip, deflate, br',\n",
    "    'Accept-Language': 'en-US,en;q=0.9,es;q=0.8,es-419;q=0.7',\n",
    "    'Captcha': 'nocaptcha',\n",
    "    'Content-Length': '21',\n",
    "    'Content-Type': 'application/json',\n",
    "    'Origin': 'https://computo.oep.org.bo',\n",
    "    'Referer': 'https://computo.oep.org.bo/',\n",
    "    'Sec-Fetch-Dest': 'empty',\n",
    "    'Sec-Fetch-Mode': 'cors',\n",
    "    'Sec-Fetch-Site': 'same-origin',\n",
    "    'User-Agent': 'Mozilla/5.0 (Windows NT 10.0; Win64; x64) AppleWebKit/537.36 (KHTML, like Gecko) Chrome/86.0'\n",
    "}\n",
    "GET_HEADERS = {\n",
    "    'Accept': \"*/*\",\n",
    "    'Accept-Encoding': 'gzip, deflate, br',\n",
    "    'Accept-Language': 'en-US,en;q=0.9,es;q=0.8,es-419;q=0.7',\n",
    "    'Connection': 'keep-alive',\n",
    "    'Host': 's3.amazonaws.com',\n",
    "    'Origin': 'https://computo.oep.org.bo',\n",
    "    'Referer': 'https://computo.oep.org.bo/',\n",
    "    'Sec-Fetch-Dest': 'empty',\n",
    "    'Sec-Fetch-Mode': 'cors',\n",
    "    'Sec-Fetch-Site': 'same-origin',\n",
    "    'User-Agent': 'Mozilla/5.0 (Windows NT 10.0; Win64; x64) AppleWebKit/537.36 (KHTML, like Gecko) Chrome/86.0.4240.75 Safari/537.36'\n",
    "}"
   ]
  },
  {
   "cell_type": "code",
   "execution_count": 38,
   "metadata": {},
   "outputs": [],
   "source": [
    "POST_PAYLOAD = {'tipoArchivo': \"EXCEL\"}"
   ]
  },
  {
   "cell_type": "code",
   "execution_count": 59,
   "metadata": {},
   "outputs": [
    {
     "name": "stdout",
     "output_type": "stream",
     "text": [
      "POST response => <Response [200]>\n",
      "headers = {'Date': 'Mon, 19 Oct 2020 18:05:52 GMT', 'Content-Type': 'application/json', 'Transfer-Encoding': 'chunked', 'Connection': 'keep-alive', 'Set-Cookie': '__cfduid=d35d6a4c3342480d00240b4ce2ca9add71603130752; expires=Wed, 18-Nov-20 18:05:52 GMT; path=/; domain=.oep.org.bo; HttpOnly; SameSite=Lax', 'Vary': 'Origin, Access-Control-Request-Method, Access-Control-Request-Headers', 'Access-Control-Allow-Origin': '*', 'CF-Cache-Status': 'DYNAMIC', 'cf-request-id': '05e3a3142e0000fe48718c2000000001', 'Expect-CT': 'max-age=604800, report-uri=\"https://report-uri.cloudflare.com/cdn-cgi/beacon/expect-ct\"', 'Server': 'cloudflare', 'CF-RAY': '5e4c6e004fa6fe48-HEL', 'Content-Encoding': 'gzip'}\n",
      "content = b'{\"fecha\":\"19/10/2020 14:05:52\",\"correcto\":true,\"notificacion\":\"Transacci\\xc3\\xb3n satisfactoria\",\"datoAdicional\":{\"nombreArchivo\":\"exportacion/EG2020_20201019_135834_4827035152743822468.xlsx\",\"tipoArchivo\":\"EXCEL\",\"hash\":\"7b5dcf54b1523bf5189000bfc398466a\",\"archivo\":\"https://s3.amazonaws.com/archivo.computo/exportacion/EG2020_20201019_135834_4827035152743822468.xlsx\",\"fecha\":\"19/10/2020 01:58:42\"}}'\n",
      "making GET request on https://s3.amazonaws.com/archivo.computo/exportacion/EG2020_20201019_135834_4827035152743822468.xlsx\n",
      "Writing 'exportacion_EG2020_20201019_135834_48270351527438224681603130756.xlsx' to file.\n"
     ]
    }
   ],
   "source": [
    "while True:\n",
    "    r = requests.post('https://computo.oep.org.bo/api/v1/descargar',\n",
    "                      headers=POST_HEADERS, json=POST_PAYLOAD)\n",
    "    print(\"POST response => {0}\".format(r))\n",
    "    print(\"headers = {0}\".format(r.headers))\n",
    "    print(\"content = {0}\".format(r.content))\n",
    "    jresp = json.loads(r.content)\n",
    "    real_url = jresp['datoAdicional']['archivo']\n",
    "    fn = jresp['datoAdicional']['nombreArchivo']\n",
    "    print(\"making GET request on {0}\".format(real_url))\n",
    "\n",
    "    with requests.get(real_url, headers=GET_HEADERS) as r:\n",
    "        # out_path =\"data\\\\\" + fn[:fn.rindex('.')] + str(int(time.time())) + fn[fn.rindex('.'):]\n",
    "        p = fn[:fn.rindex('.')] + str(int(time.time())) + fn[\n",
    "                                                          fn.rindex('.'):]\n",
    "        p = p.replace('/','_')\n",
    "        print(f\"Writing '{p}' to file.\")\n",
    "        out_path = os.path.join(BASE_DIR, p)\n",
    "        makedirs(dirname(out_path), exist_ok=True)\n",
    "        open(out_path, 'wb').write(r.content)\n",
    "\n",
    "    a,b = out_path.split('.')\n",
    "    c = os.path.dirname(a)+'/'\n",
    "    a = os.path.basename(a)\n",
    "    b='.'+b\n",
    "    d = os.path.join(ebu.DATA_PATH1_2020,'comp')+'/'\n",
    "\n",
    "    s = os.path.join(ebu.DIR,'R_','scripts','z062R_fun_translator_Diego_script.R')\n",
    "    import subprocess\n",
    "    l = ['Rscript' ,'--vanilla' ,f'{s}', f'{a}', f'{b}', f'{c}', f'{d}']\n",
    "    p = subprocess.run(l,stdout=subprocess.PIPE,stderr=subprocess.PIPE)\n",
    "    \n",
    "    print('going to sleep')\n",
    "    time.sleep(SLEEP_SECONDS_PER_LOOP) # 10 min.\n",
    "\n",
    "\n",
    "    "
   ]
  },
  {
   "cell_type": "code",
   "execution_count": 57,
   "metadata": {},
   "outputs": [],
   "source": []
  },
  {
   "cell_type": "code",
   "execution_count": null,
   "metadata": {},
   "outputs": [],
   "source": [
    "\n"
   ]
  },
  {
   "cell_type": "code",
   "execution_count": null,
   "metadata": {},
   "outputs": [],
   "source": []
  },
  {
   "cell_type": "code",
   "execution_count": null,
   "metadata": {},
   "outputs": [],
   "source": []
  },
  {
   "cell_type": "code",
   "execution_count": null,
   "metadata": {},
   "outputs": [],
   "source": []
  }
 ],
 "metadata": {
  "jupytext": {
   "cell_metadata_filter": "-all",
   "main_language": "python",
   "notebook_metadata_filter": "-all"
  },
  "kernelspec": {
   "display_name": "ebol20",
   "language": "python",
   "name": "ebol20"
  },
  "language_info": {
   "codemirror_mode": {
    "name": "ipython",
    "version": 3
   },
   "file_extension": ".py",
   "mimetype": "text/x-python",
   "name": "python",
   "nbconvert_exporter": "python",
   "pygments_lexer": "ipython3",
   "version": "3.7.8"
  },
  "toc": {
   "base_numbering": 1,
   "nav_menu": {},
   "number_sections": true,
   "sideBar": true,
   "skip_h1_title": false,
   "title_cell": "Table of Contents",
   "title_sidebar": "Contents",
   "toc_cell": false,
   "toc_position": {},
   "toc_section_display": true,
   "toc_window_display": false
  },
  "varInspector": {
   "cols": {
    "lenName": 16,
    "lenType": 16,
    "lenVar": 40
   },
   "kernels_config": {
    "python": {
     "delete_cmd_postfix": "",
     "delete_cmd_prefix": "del ",
     "library": "var_list.py",
     "varRefreshCmd": "print(var_dic_list())"
    },
    "r": {
     "delete_cmd_postfix": ") ",
     "delete_cmd_prefix": "rm(",
     "library": "var_list.r",
     "varRefreshCmd": "cat(var_dic_list()) "
    }
   },
   "types_to_exclude": [
    "module",
    "function",
    "builtin_function_or_method",
    "instance",
    "_Feature"
   ],
   "window_display": false
  }
 },
 "nbformat": 4,
 "nbformat_minor": 4
}
