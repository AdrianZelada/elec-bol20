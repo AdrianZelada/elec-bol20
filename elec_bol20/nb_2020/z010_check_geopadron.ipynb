{
 "cells": [
  {
   "cell_type": "code",
   "execution_count": 1,
   "metadata": {},
   "outputs": [],
   "source": [
    "from elec_bol20 import *\n",
    "import elec_bol20.util as ebu"
   ]
  },
  {
   "cell_type": "markdown",
   "metadata": {},
   "source": [
    "## open file"
   ]
  },
  {
   "cell_type": "code",
   "execution_count": null,
   "metadata": {
    "lines_to_next_cell": 2
   },
   "outputs": [],
   "source": [
    "# abrimos el file de georeferencias\n",
    "i = 'reci_interior'\n",
    "e = 'reci_exterior'\n",
    "path = os.path.join(ebu.DATA_PATH0,'2020','2020_geo_padron_final/2020_geo_padron_final.xlsx')\n",
    "#nacional\n",
    "dn = pd.read_excel(path, sheet_name=i)\n",
    "#exterior\n",
    "de = pd.read_excel(path,sheet_name=e)"
   ]
  },
  {
   "cell_type": "code",
   "execution_count": null,
   "metadata": {},
   "outputs": [],
   "source": [
    "# Verificar no duplicados\n",
    "dn['RECI'].duplicated().sum()"
   ]
  },
  {
   "cell_type": "code",
   "execution_count": null,
   "metadata": {},
   "outputs": [],
   "source": [
    "dn['RECI_GEO_FID'].duplicated().sum()"
   ]
  },
  {
   "cell_type": "code",
   "execution_count": 6,
   "metadata": {},
   "outputs": [
    {
     "data": {
      "text/plain": [
       "0"
      ]
     },
     "execution_count": 6,
     "metadata": {},
     "output_type": "execute_result"
    }
   ],
   "source": [
    "de['RECI'].duplicated().sum()"
   ]
  },
  {
   "cell_type": "code",
   "execution_count": 7,
   "metadata": {},
   "outputs": [
    {
     "data": {
      "text/plain": [
       "52"
      ]
     },
     "execution_count": 7,
     "metadata": {},
     "output_type": "execute_result"
    }
   ],
   "source": [
    "de['RECI_GEO_FID'].duplicated().sum()"
   ]
  },
  {
   "cell_type": "code",
   "execution_count": null,
   "metadata": {},
   "outputs": [],
   "source": [
    "dn['País'].value_counts()"
   ]
  },
  {
   "cell_type": "code",
   "execution_count": null,
   "metadata": {},
   "outputs": [],
   "source": [
    "len(dn)"
   ]
  },
  {
   "cell_type": "code",
   "execution_count": 10,
   "metadata": {},
   "outputs": [
    {
     "data": {
      "text/plain": [
       "162"
      ]
     },
     "execution_count": 10,
     "metadata": {},
     "output_type": "execute_result"
    }
   ],
   "source": [
    "len(de)"
   ]
  },
  {
   "cell_type": "markdown",
   "metadata": {},
   "source": [
    "#### merge"
   ]
  },
  {
   "cell_type": "code",
   "execution_count": null,
   "metadata": {},
   "outputs": [],
   "source": [
    "# columnas de traduccion\n",
    "je = ['NumPaís','NumDep','NumProv','NumMuni','idloc',\t'NumDist',\t'NumZona',\t'RECI']\n",
    "te = ['pais','Ciudad','PROV','sec','idloc','dist','zona','RECI']\n",
    "\n",
    "jn = ['NumDep','NumProv','NumMuni','idloc','NumDist','NumZona','CIRCUNDIST','RECI']\n",
    "tn = ['dep','PROV','sec','idloc','dist','zona','CIRCUNDIST','RECI'] "
   ]
  },
  {
   "cell_type": "code",
   "execution_count": null,
   "metadata": {},
   "outputs": [],
   "source": [
    "#diccionarios de traduccion\n",
    "dic_e = {a:b for a,b in zip(je,te) }\n",
    "dic_n = {a:b for a,b in zip(jn,tn) }"
   ]
  },
  {
   "cell_type": "code",
   "execution_count": null,
   "metadata": {},
   "outputs": [],
   "source": [
    "#abrir ope excel NAC\n",
    "s='Hab_Inhab_depu_X_Mesa'\n",
    "pn = os.path.join(ebu.DATA_PATH0,'2020',\n",
    "                  'padron_oep','ESTADISTICAS_NACIONAL_EG_2020.xlsx')\n",
    "#eliminat última columna na\n",
    "pn = pd.read_excel(pn,sheet_name=s,skiprows=5, dtype={'nummesa':str}).iloc[:-1]"
   ]
  },
  {
   "cell_type": "code",
   "execution_count": null,
   "metadata": {},
   "outputs": [],
   "source": [
    "#abrir oep excel EXT\n",
    "s='Hab_Inhab_Dep_X_Recinto_X_Mesa'\n",
    "pe = os.path.join(ebu.DATA_PATH0,'2020',\n",
    "                  'padron_oep','ESTADISTICAS_EXTERIOR_EG_2020.xlsx')\n",
    "\n",
    "#eliminar última columna na\n",
    "pe = pd.read_excel(pe,sheet_name=s,skiprows=5, dtype={'nummesa':str}).iloc[:-1]"
   ]
  },
  {
   "cell_type": "code",
   "execution_count": null,
   "metadata": {},
   "outputs": [],
   "source": [
    "# juntar dn con je\n",
    "# juntar de con"
   ]
  },
  {
   "cell_type": "code",
   "execution_count": null,
   "metadata": {},
   "outputs": [],
   "source": []
  }
 ],
 "metadata": {
  "jupytext": {
   "encoding": "# -*- coding: utf-8 -*-",
   "text_representation": {
    "extension": ".py",
    "format_name": "percent",
    "format_version": "1.3",
    "jupytext_version": "1.4.0"
   }
  },
  "kernelspec": {
   "display_name": "ebol20",
   "language": "python",
   "name": "ebol20"
  },
  "language_info": {
   "codemirror_mode": {
    "name": "ipython",
    "version": 3
   },
   "file_extension": ".py",
   "mimetype": "text/x-python",
   "name": "python",
   "nbconvert_exporter": "python",
   "pygments_lexer": "ipython3",
   "version": "3.7.8"
  },
  "toc": {
   "base_numbering": 1,
   "nav_menu": {},
   "number_sections": true,
   "sideBar": true,
   "skip_h1_title": false,
   "title_cell": "Table of Contents",
   "title_sidebar": "Contents",
   "toc_cell": false,
   "toc_position": {},
   "toc_section_display": true,
   "toc_window_display": true
  },
  "varInspector": {
   "cols": {
    "lenName": 16,
    "lenType": 16,
    "lenVar": 40
   },
   "kernels_config": {
    "python": {
     "delete_cmd_postfix": "",
     "delete_cmd_prefix": "del ",
     "library": "var_list.py",
     "varRefreshCmd": "print(var_dic_list())"
    },
    "r": {
     "delete_cmd_postfix": ") ",
     "delete_cmd_prefix": "rm(",
     "library": "var_list.r",
     "varRefreshCmd": "cat(var_dic_list()) "
    }
   },
   "types_to_exclude": [
    "module",
    "function",
    "builtin_function_or_method",
    "instance",
    "_Feature"
   ],
   "window_display": false
  }
 },
 "nbformat": 4,
 "nbformat_minor": 4
}
