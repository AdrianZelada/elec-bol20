{
 "cells": [
  {
   "cell_type": "code",
   "execution_count": 1,
   "metadata": {},
   "outputs": [],
   "source": [
    "from elec_bol20 import *\n",
    "import elec_bol20.util as ebu"
   ]
  },
  {
   "cell_type": "markdown",
   "metadata": {},
   "source": [
    "## open file"
   ]
  },
  {
   "cell_type": "code",
   "execution_count": 2,
   "metadata": {},
   "outputs": [],
   "source": [
    "i = 'reci_interior'\n",
    "e = 'reci_exterior'\n",
    "path = os.path.join(ebu.DATA_PATH0,'2020','2020_geo_padron_final/2020_geo_padron_final.xlsx')\n",
    "di = pd.read_excel(path,sheet_name=i)\n",
    "de = pd.read_excel(path,sheet_name=e)"
   ]
  },
  {
   "cell_type": "markdown",
   "metadata": {
    "heading_collapsed": true
   },
   "source": [
    "##### ver "
   ]
  },
  {
   "cell_type": "code",
   "execution_count": 3,
   "metadata": {
    "hidden": true
   },
   "outputs": [
    {
     "data": {
      "text/plain": [
       "['RECI_GEO_FID',\n",
       " 'NumPaís',\n",
       " 'País',\n",
       " 'NumDep',\n",
       " 'Departamento',\n",
       " 'NumProv',\n",
       " 'Provincia',\n",
       " 'NumMuni',\n",
       " 'Municipio',\n",
       " 'idloc',\n",
       " 'AsientoElectoral',\n",
       " 'NumDist',\n",
       " 'Distrito',\n",
       " 'NumZona',\n",
       " 'Zona',\n",
       " 'CIRCUNDIST',\n",
       " 'nomCircun',\n",
       " 'TipoCircunscripcion',\n",
       " 'RECI',\n",
       " 'Recinto',\n",
       " 'Mesas',\n",
       " 'Habilitados',\n",
       " 'latitud',\n",
       " 'longitud',\n",
       " 'rural_urbano',\n",
       " 'denspop']"
      ]
     },
     "execution_count": 3,
     "metadata": {},
     "output_type": "execute_result"
    }
   ],
   "source": [
    "['RECI_GEO_FID', 'NumPaís', 'País', 'NumDep', 'Departamento', 'NumProv',\n",
    "       'Provincia', 'NumMuni', 'Municipio', 'idloc', 'AsientoElectoral',\n",
    "       'NumDist', 'Distrito', 'NumZona', 'Zona', 'CIRCUNDIST', 'nomCircun',\n",
    "       'TipoCircunscripcion', 'RECI', 'Recinto', 'Mesas', 'Habilitados',\n",
    "       'latitud', 'longitud', 'rural_urbano', 'denspop']\n",
    "\n"
   ]
  },
  {
   "cell_type": "code",
   "execution_count": 4,
   "metadata": {
    "hidden": true
   },
   "outputs": [
    {
     "data": {
      "text/plain": [
       "2483"
      ]
     },
     "execution_count": 4,
     "metadata": {},
     "output_type": "execute_result"
    }
   ],
   "source": [
    "di['RECI'].duplicated().sum()"
   ]
  },
  {
   "cell_type": "code",
   "execution_count": 5,
   "metadata": {
    "hidden": true
   },
   "outputs": [
    {
     "data": {
      "text/plain": [
       "0"
      ]
     },
     "execution_count": 5,
     "metadata": {},
     "output_type": "execute_result"
    }
   ],
   "source": [
    "di['RECI_GEO_FID'].duplicated().sum()"
   ]
  },
  {
   "cell_type": "code",
   "execution_count": 6,
   "metadata": {
    "hidden": true
   },
   "outputs": [
    {
     "data": {
      "text/plain": [
       "0"
      ]
     },
     "execution_count": 6,
     "metadata": {},
     "output_type": "execute_result"
    }
   ],
   "source": [
    "de['RECI'].duplicated().sum()"
   ]
  },
  {
   "cell_type": "code",
   "execution_count": 7,
   "metadata": {
    "hidden": true
   },
   "outputs": [
    {
     "data": {
      "text/plain": [
       "52"
      ]
     },
     "execution_count": 7,
     "metadata": {},
     "output_type": "execute_result"
    }
   ],
   "source": [
    "de['RECI_GEO_FID'].duplicated().sum()"
   ]
  },
  {
   "cell_type": "code",
   "execution_count": 8,
   "metadata": {
    "hidden": true
   },
   "outputs": [
    {
     "data": {
      "text/plain": [
       "Bolivia    5322\n",
       "Name: País, dtype: int64"
      ]
     },
     "execution_count": 8,
     "metadata": {},
     "output_type": "execute_result"
    }
   ],
   "source": [
    "di['País'].value_counts()"
   ]
  },
  {
   "cell_type": "code",
   "execution_count": 9,
   "metadata": {
    "hidden": true
   },
   "outputs": [
    {
     "data": {
      "text/plain": [
       "5322"
      ]
     },
     "execution_count": 9,
     "metadata": {},
     "output_type": "execute_result"
    }
   ],
   "source": [
    "len(di)"
   ]
  },
  {
   "cell_type": "code",
   "execution_count": 10,
   "metadata": {
    "hidden": true
   },
   "outputs": [
    {
     "data": {
      "text/plain": [
       "162"
      ]
     },
     "execution_count": 10,
     "metadata": {},
     "output_type": "execute_result"
    }
   ],
   "source": [
    "len(de)"
   ]
  },
  {
   "cell_type": "markdown",
   "metadata": {},
   "source": [
    "#### merge"
   ]
  },
  {
   "cell_type": "code",
   "execution_count": 15,
   "metadata": {},
   "outputs": [],
   "source": [
    "je = ['NumPaís','NumDep','NumProv','NumMuni','idloc',\t'NumDist',\t'NumZona',\t'RECI']\n",
    "te = ['pais','Ciudad','PROV','sec','idloc','dist','zona','RECI']\n",
    "\n",
    "jn = ['NumDep','NumProv','NumMuni','idloc','NumDist','NumZona','CIRCUNDIST','RECI']\n",
    "tn = ['dep','PROV','sec','idloc','dist','zona','CIRCUNDIST','RECI'] "
   ]
  },
  {
   "cell_type": "code",
   "execution_count": 30,
   "metadata": {},
   "outputs": [],
   "source": [
    "dic_e = {a:b for a,b in zip(je,te) }\n",
    "dic_n = {a:b for a,b in zip(jn,tn) }"
   ]
  },
  {
   "cell_type": "code",
   "execution_count": 79,
   "metadata": {},
   "outputs": [],
   "source": [
    "s='Hab_Inhab_depu_X_Mesa'\n",
    "pn = os.path.join(ebu.DATA_PATH0,'2020',\n",
    "                  'padron_oep','ESTADISTICAS_NACIONAL_EG_2020.xlsx')\n",
    "pn = pd.read_excel(pn,sheet_name=s,skiprows=5, dtype={'nummesa':str}).iloc[:-1]"
   ]
  },
  {
   "cell_type": "code",
   "execution_count": 87,
   "metadata": {},
   "outputs": [],
   "source": [
    "s='Hab_Inhab_Dep_X_Recinto_X_Mesa'\n",
    "pe = os.path.join(ebu.DATA_PATH0,'2020',\n",
    "                  'padron_oep','ESTADISTICAS_EXTERIOR_EG_2020.xlsx')\n",
    "pe = pd.read_excel(pe,sheet_name=s,skiprows=5, dtype={'nummesa':str}).iloc[:-1]"
   ]
  },
  {
   "cell_type": "code",
   "execution_count": 91,
   "metadata": {},
   "outputs": [
    {
     "data": {
      "text/html": [
       "<div>\n",
       "<style scoped>\n",
       "    .dataframe tbody tr th:only-of-type {\n",
       "        vertical-align: middle;\n",
       "    }\n",
       "\n",
       "    .dataframe tbody tr th {\n",
       "        vertical-align: top;\n",
       "    }\n",
       "\n",
       "    .dataframe thead th {\n",
       "        text-align: right;\n",
       "    }\n",
       "</style>\n",
       "<table border=\"1\" class=\"dataframe\">\n",
       "  <thead>\n",
       "    <tr style=\"text-align: right;\">\n",
       "      <th></th>\n",
       "      <th>pais</th>\n",
       "      <th>Ciudad</th>\n",
       "      <th>PROV</th>\n",
       "      <th>sec</th>\n",
       "      <th>idloc</th>\n",
       "      <th>dist</th>\n",
       "      <th>zona</th>\n",
       "      <th>RECI</th>\n",
       "      <th>nummesa</th>\n",
       "    </tr>\n",
       "  </thead>\n",
       "  <tbody>\n",
       "    <tr>\n",
       "      <th>0</th>\n",
       "      <td>4.0</td>\n",
       "      <td>61.0</td>\n",
       "      <td>1.0</td>\n",
       "      <td>1.0</td>\n",
       "      <td>3804.0</td>\n",
       "      <td>1.0</td>\n",
       "      <td>101.0</td>\n",
       "      <td>25129.0</td>\n",
       "      <td>110046138042512901</td>\n",
       "    </tr>\n",
       "    <tr>\n",
       "      <th>1</th>\n",
       "      <td>4.0</td>\n",
       "      <td>61.0</td>\n",
       "      <td>1.0</td>\n",
       "      <td>1.0</td>\n",
       "      <td>3804.0</td>\n",
       "      <td>1.0</td>\n",
       "      <td>101.0</td>\n",
       "      <td>25129.0</td>\n",
       "      <td>110046138042512902</td>\n",
       "    </tr>\n",
       "    <tr>\n",
       "      <th>2</th>\n",
       "      <td>11.0</td>\n",
       "      <td>10.0</td>\n",
       "      <td>1.0</td>\n",
       "      <td>1.0</td>\n",
       "      <td>3611.0</td>\n",
       "      <td>1.0</td>\n",
       "      <td>101.0</td>\n",
       "      <td>25055.0</td>\n",
       "      <td>110111036112505501</td>\n",
       "    </tr>\n",
       "    <tr>\n",
       "      <th>3</th>\n",
       "      <td>11.0</td>\n",
       "      <td>10.0</td>\n",
       "      <td>1.0</td>\n",
       "      <td>1.0</td>\n",
       "      <td>3611.0</td>\n",
       "      <td>1.0</td>\n",
       "      <td>101.0</td>\n",
       "      <td>25055.0</td>\n",
       "      <td>110111036112505502</td>\n",
       "    </tr>\n",
       "    <tr>\n",
       "      <th>4</th>\n",
       "      <td>11.0</td>\n",
       "      <td>10.0</td>\n",
       "      <td>1.0</td>\n",
       "      <td>1.0</td>\n",
       "      <td>3611.0</td>\n",
       "      <td>1.0</td>\n",
       "      <td>101.0</td>\n",
       "      <td>25055.0</td>\n",
       "      <td>110111036112505503</td>\n",
       "    </tr>\n",
       "    <tr>\n",
       "      <th>...</th>\n",
       "      <td>...</td>\n",
       "      <td>...</td>\n",
       "      <td>...</td>\n",
       "      <td>...</td>\n",
       "      <td>...</td>\n",
       "      <td>...</td>\n",
       "      <td>...</td>\n",
       "      <td>...</td>\n",
       "      <td>...</td>\n",
       "    </tr>\n",
       "    <tr>\n",
       "      <th>1438</th>\n",
       "      <td>213.0</td>\n",
       "      <td>77.0</td>\n",
       "      <td>1.0</td>\n",
       "      <td>1.0</td>\n",
       "      <td>3820.0</td>\n",
       "      <td>1.0</td>\n",
       "      <td>101.0</td>\n",
       "      <td>26120.0</td>\n",
       "      <td>112137738202612003</td>\n",
       "    </tr>\n",
       "    <tr>\n",
       "      <th>1439</th>\n",
       "      <td>213.0</td>\n",
       "      <td>77.0</td>\n",
       "      <td>1.0</td>\n",
       "      <td>1.0</td>\n",
       "      <td>3820.0</td>\n",
       "      <td>1.0</td>\n",
       "      <td>101.0</td>\n",
       "      <td>26120.0</td>\n",
       "      <td>112137738202612004</td>\n",
       "    </tr>\n",
       "    <tr>\n",
       "      <th>1440</th>\n",
       "      <td>213.0</td>\n",
       "      <td>77.0</td>\n",
       "      <td>1.0</td>\n",
       "      <td>1.0</td>\n",
       "      <td>3820.0</td>\n",
       "      <td>1.0</td>\n",
       "      <td>101.0</td>\n",
       "      <td>26120.0</td>\n",
       "      <td>112137738202612005</td>\n",
       "    </tr>\n",
       "    <tr>\n",
       "      <th>1441</th>\n",
       "      <td>213.0</td>\n",
       "      <td>77.0</td>\n",
       "      <td>1.0</td>\n",
       "      <td>1.0</td>\n",
       "      <td>3820.0</td>\n",
       "      <td>1.0</td>\n",
       "      <td>101.0</td>\n",
       "      <td>26120.0</td>\n",
       "      <td>112137738202612006</td>\n",
       "    </tr>\n",
       "    <tr>\n",
       "      <th>1442</th>\n",
       "      <td>233.0</td>\n",
       "      <td>49.0</td>\n",
       "      <td>1.0</td>\n",
       "      <td>1.0</td>\n",
       "      <td>3792.0</td>\n",
       "      <td>1.0</td>\n",
       "      <td>101.0</td>\n",
       "      <td>25117.0</td>\n",
       "      <td>112334937922511701</td>\n",
       "    </tr>\n",
       "  </tbody>\n",
       "</table>\n",
       "<p>1443 rows × 9 columns</p>\n",
       "</div>"
      ],
      "text/plain": [
       "       pais  Ciudad  PROV  sec   idloc  dist   zona     RECI  \\\n",
       "0       4.0    61.0   1.0  1.0  3804.0   1.0  101.0  25129.0   \n",
       "1       4.0    61.0   1.0  1.0  3804.0   1.0  101.0  25129.0   \n",
       "2      11.0    10.0   1.0  1.0  3611.0   1.0  101.0  25055.0   \n",
       "3      11.0    10.0   1.0  1.0  3611.0   1.0  101.0  25055.0   \n",
       "4      11.0    10.0   1.0  1.0  3611.0   1.0  101.0  25055.0   \n",
       "...     ...     ...   ...  ...     ...   ...    ...      ...   \n",
       "1438  213.0    77.0   1.0  1.0  3820.0   1.0  101.0  26120.0   \n",
       "1439  213.0    77.0   1.0  1.0  3820.0   1.0  101.0  26120.0   \n",
       "1440  213.0    77.0   1.0  1.0  3820.0   1.0  101.0  26120.0   \n",
       "1441  213.0    77.0   1.0  1.0  3820.0   1.0  101.0  26120.0   \n",
       "1442  233.0    49.0   1.0  1.0  3792.0   1.0  101.0  25117.0   \n",
       "\n",
       "                 nummesa  \n",
       "0     110046138042512901  \n",
       "1     110046138042512902  \n",
       "2     110111036112505501  \n",
       "3     110111036112505502  \n",
       "4     110111036112505503  \n",
       "...                  ...  \n",
       "1438  112137738202612003  \n",
       "1439  112137738202612004  \n",
       "1440  112137738202612005  \n",
       "1441  112137738202612006  \n",
       "1442  112334937922511701  \n",
       "\n",
       "[1443 rows x 9 columns]"
      ]
     },
     "execution_count": 91,
     "metadata": {},
     "output_type": "execute_result"
    }
   ],
   "source": [
    "pe[[*dic_e.values(),'nummesa']]"
   ]
  },
  {
   "cell_type": "code",
   "execution_count": null,
   "metadata": {},
   "outputs": [],
   "source": [
    "pe['N_REC'] = pe."
   ]
  },
  {
   "cell_type": "code",
   "execution_count": 85,
   "metadata": {},
   "outputs": [
    {
     "data": {
      "text/plain": [
       "pais                                            NaN\n",
       "NombrePais                                      NaN\n",
       "Ciudad                                          NaN\n",
       "NomCiudad                                       NaN\n",
       "PROV                                            NaN\n",
       "nomprov                                         NaN\n",
       "sec                                             NaN\n",
       "nombremunicipio                                 NaN\n",
       "idloc                                           NaN\n",
       "AsientoElectoral                                NaN\n",
       "dist                                            NaN\n",
       "nomdist                                         NaN\n",
       "zona                                            NaN\n",
       "nomzona                                         NaN\n",
       "CIRCUNDIST                                      NaN\n",
       "RECI                                            NaN\n",
       "nombrerecinto                                   NaN\n",
       "nummesa                                         NaN\n",
       "Mesa                                            NaN\n",
       "Habilitados                                  301631\n",
       "Inhabilitados\\n(Ciudadanos \\nNo votantes)     50634\n",
       "Name: 1443, dtype: object"
      ]
     },
     "execution_count": 85,
     "metadata": {},
     "output_type": "execute_result"
    }
   ],
   "source": [
    "pe"
   ]
  },
  {
   "cell_type": "code",
   "execution_count": 62,
   "metadata": {},
   "outputs": [
    {
     "name": "stderr",
     "output_type": "stream",
     "text": [
      "/Users/diego/miniconda3/envs/ebol20/lib/python3.7/site-packages/ipykernel_launcher.py:2: SettingWithCopyWarning: \n",
      "A value is trying to be set on a copy of a slice from a DataFrame.\n",
      "Try using .loc[row_indexer,col_indexer] = value instead\n",
      "\n",
      "See the caveats in the documentation: https://pandas.pydata.org/pandas-docs/stable/user_guide/indexing.html#returning-a-view-versus-a-copy\n",
      "  \n"
     ]
    }
   ],
   "source": [
    "pn1[[*dic_n.values(),'nummesa']]\n",
    "pn1['N_MESA'] = pn1['nummesa'].astype(np.int64)"
   ]
  },
  {
   "cell_type": "code",
   "execution_count": 66,
   "metadata": {},
   "outputs": [
    {
     "data": {
      "text/plain": [
       "0        100320129540000096\n",
       "1        100320137150000096\n",
       "2        100320128880000096\n",
       "3        100320128880000096\n",
       "4        100320133740000096\n",
       "                ...        \n",
       "34152    100320911920007696\n",
       "34153    100320941022551104\n",
       "34154    100320941012551008\n",
       "34155    100320934050000096\n",
       "34156    100320933030000096\n",
       "Name: nummesa, Length: 34157, dtype: int64"
      ]
     },
     "execution_count": 66,
     "metadata": {},
     "output_type": "execute_result"
    }
   ],
   "source": [
    "pn1['nummesa'].astype(np.int64)"
   ]
  },
  {
   "cell_type": "code",
   "execution_count": null,
   "metadata": {},
   "outputs": [],
   "source": []
  }
 ],
 "metadata": {
  "jupytext": {
   "encoding": "# -*- coding: utf-8 -*-",
   "text_representation": {
    "extension": ".py",
    "format_name": "percent",
    "format_version": "1.3",
    "jupytext_version": "1.4.0"
   }
  },
  "kernelspec": {
   "display_name": "ebol20",
   "language": "python",
   "name": "ebol20"
  },
  "language_info": {
   "codemirror_mode": {
    "name": "ipython",
    "version": 3
   },
   "file_extension": ".py",
   "mimetype": "text/x-python",
   "name": "python",
   "nbconvert_exporter": "python",
   "pygments_lexer": "ipython3",
   "version": "3.7.8"
  },
  "toc": {
   "base_numbering": 1,
   "nav_menu": {},
   "number_sections": true,
   "sideBar": true,
   "skip_h1_title": false,
   "title_cell": "Table of Contents",
   "title_sidebar": "Contents",
   "toc_cell": false,
   "toc_position": {},
   "toc_section_display": true,
   "toc_window_display": true
  },
  "varInspector": {
   "cols": {
    "lenName": 16,
    "lenType": 16,
    "lenVar": 40
   },
   "kernels_config": {
    "python": {
     "delete_cmd_postfix": "",
     "delete_cmd_prefix": "del ",
     "library": "var_list.py",
     "varRefreshCmd": "print(var_dic_list())"
    },
    "r": {
     "delete_cmd_postfix": ") ",
     "delete_cmd_prefix": "rm(",
     "library": "var_list.r",
     "varRefreshCmd": "cat(var_dic_list()) "
    }
   },
   "types_to_exclude": [
    "module",
    "function",
    "builtin_function_or_method",
    "instance",
    "_Feature"
   ],
   "window_display": false
  }
 },
 "nbformat": 4,
 "nbformat_minor": 4
}
