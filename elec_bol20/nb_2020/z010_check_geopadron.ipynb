{
 "cells": [
  {
   "cell_type": "code",
   "execution_count": 1,
   "metadata": {},
   "outputs": [],
   "source": [
    "from elec_bol20 import *\n",
    "import elec_bol20.util as ebu"
   ]
  },
  {
   "cell_type": "markdown",
   "metadata": {},
   "source": [
    "## open file"
   ]
  },
  {
   "cell_type": "code",
   "execution_count": 2,
   "metadata": {},
   "outputs": [],
   "source": [
    "i = 'reci_interior'\n",
    "e = 'reci_exterior'\n",
    "path = os.path.join(ebu.DATA_PATH0,'2020','2020_geo_padron_final/2020_geo_padron_final.xlsx')\n",
    "di = pd.read_excel(path,sheet_name=i)\n",
    "de = pd.read_excel(path,sheet_name=e)"
   ]
  },
  {
   "cell_type": "markdown",
   "metadata": {
    "heading_collapsed": true
   },
   "source": [
    "##### ver "
   ]
  },
  {
   "cell_type": "code",
   "execution_count": 3,
   "metadata": {
    "hidden": true
   },
   "outputs": [
    {
     "data": {
      "text/plain": [
       "['RECI_GEO_FID',\n",
       " 'NumPaís',\n",
       " 'País',\n",
       " 'NumDep',\n",
       " 'Departamento',\n",
       " 'NumProv',\n",
       " 'Provincia',\n",
       " 'NumMuni',\n",
       " 'Municipio',\n",
       " 'idloc',\n",
       " 'AsientoElectoral',\n",
       " 'NumDist',\n",
       " 'Distrito',\n",
       " 'NumZona',\n",
       " 'Zona',\n",
       " 'CIRCUNDIST',\n",
       " 'nomCircun',\n",
       " 'TipoCircunscripcion',\n",
       " 'RECI',\n",
       " 'Recinto',\n",
       " 'Mesas',\n",
       " 'Habilitados',\n",
       " 'latitud',\n",
       " 'longitud',\n",
       " 'rural_urbano',\n",
       " 'denspop']"
      ]
     },
     "execution_count": 3,
     "metadata": {},
     "output_type": "execute_result"
    }
   ],
   "source": [
    "['RECI_GEO_FID', 'NumPaís', 'País', 'NumDep', 'Departamento', 'NumProv',\n",
    "       'Provincia', 'NumMuni', 'Municipio', 'idloc', 'AsientoElectoral',\n",
    "       'NumDist', 'Distrito', 'NumZona', 'Zona', 'CIRCUNDIST', 'nomCircun',\n",
    "       'TipoCircunscripcion', 'RECI', 'Recinto', 'Mesas', 'Habilitados',\n",
    "       'latitud', 'longitud', 'rural_urbano', 'denspop']\n",
    "\n"
   ]
  },
  {
   "cell_type": "code",
   "execution_count": 4,
   "metadata": {
    "hidden": true
   },
   "outputs": [
    {
     "data": {
      "text/plain": [
       "2483"
      ]
     },
     "execution_count": 4,
     "metadata": {},
     "output_type": "execute_result"
    }
   ],
   "source": [
    "di['RECI'].duplicated().sum()"
   ]
  },
  {
   "cell_type": "code",
   "execution_count": 5,
   "metadata": {
    "hidden": true
   },
   "outputs": [
    {
     "data": {
      "text/plain": [
       "0"
      ]
     },
     "execution_count": 5,
     "metadata": {},
     "output_type": "execute_result"
    }
   ],
   "source": [
    "di['RECI_GEO_FID'].duplicated().sum()"
   ]
  },
  {
   "cell_type": "code",
   "execution_count": 6,
   "metadata": {
    "hidden": true
   },
   "outputs": [
    {
     "data": {
      "text/plain": [
       "0"
      ]
     },
     "execution_count": 6,
     "metadata": {},
     "output_type": "execute_result"
    }
   ],
   "source": [
    "de['RECI'].duplicated().sum()"
   ]
  },
  {
   "cell_type": "code",
   "execution_count": 7,
   "metadata": {
    "hidden": true
   },
   "outputs": [
    {
     "data": {
      "text/plain": [
       "52"
      ]
     },
     "execution_count": 7,
     "metadata": {},
     "output_type": "execute_result"
    }
   ],
   "source": [
    "de['RECI_GEO_FID'].duplicated().sum()"
   ]
  },
  {
   "cell_type": "code",
   "execution_count": 8,
   "metadata": {
    "hidden": true
   },
   "outputs": [
    {
     "data": {
      "text/plain": [
       "Bolivia    5322\n",
       "Name: País, dtype: int64"
      ]
     },
     "execution_count": 8,
     "metadata": {},
     "output_type": "execute_result"
    }
   ],
   "source": [
    "di['País'].value_counts()"
   ]
  },
  {
   "cell_type": "code",
   "execution_count": 9,
   "metadata": {
    "hidden": true
   },
   "outputs": [
    {
     "data": {
      "text/plain": [
       "5322"
      ]
     },
     "execution_count": 9,
     "metadata": {},
     "output_type": "execute_result"
    }
   ],
   "source": [
    "len(di)"
   ]
  },
  {
   "cell_type": "code",
   "execution_count": 10,
   "metadata": {
    "hidden": true
   },
   "outputs": [
    {
     "data": {
      "text/plain": [
       "162"
      ]
     },
     "execution_count": 10,
     "metadata": {},
     "output_type": "execute_result"
    }
   ],
   "source": [
    "len(de)"
   ]
  },
  {
   "cell_type": "markdown",
   "metadata": {},
   "source": [
    "#### merge"
   ]
  },
  {
   "cell_type": "code",
   "execution_count": 15,
   "metadata": {},
   "outputs": [],
   "source": [
    "je = ['NumPaís','NumDep','NumProv','NumMuni','idloc',\t'NumDist',\t'NumZona',\t'RECI']\n",
    "te = ['pais','Ciudad','PROV','sec','idloc','dist','zona','RECI']\n",
    "\n",
    "jn = ['NumDep','NumProv','NumMuni','idloc','NumDist','NumZona','CIRCUNDIST','RECI']\n",
    "tn = ['dep','PROV','sec','idloc','dist','zona','CIRCUNDIST','RECI'] "
   ]
  },
  {
   "cell_type": "code",
   "execution_count": 30,
   "metadata": {},
   "outputs": [],
   "source": [
    "dic_e = {a:b for a,b in zip(je,te) }\n",
    "dic_n = {a:b for a,b in zip(jn,tn) }"
   ]
  },
  {
   "cell_type": "code",
   "execution_count": 39,
   "metadata": {},
   "outputs": [],
   "source": [
    "s='Hab_Inhab_depu_X_Mesa'\n",
    "pn = os.path.join(ebu.DATA_PATH0,'2020',\n",
    "                  'padron_oep','ESTADISTICAS_NACIONAL_EG_2020.xlsx')\n",
    "pn = pd.read_excel(pn,sheet_name=s,skiprows=5)"
   ]
  },
  {
   "cell_type": "code",
   "execution_count": 56,
   "metadata": {},
   "outputs": [],
   "source": [
    "pn1 = pn.iloc[:-1]"
   ]
  },
  {
   "cell_type": "code",
   "execution_count": 57,
   "metadata": {},
   "outputs": [
    {
     "data": {
      "text/html": [
       "<div>\n",
       "<style scoped>\n",
       "    .dataframe tbody tr th:only-of-type {\n",
       "        vertical-align: middle;\n",
       "    }\n",
       "\n",
       "    .dataframe tbody tr th {\n",
       "        vertical-align: top;\n",
       "    }\n",
       "\n",
       "    .dataframe thead th {\n",
       "        text-align: right;\n",
       "    }\n",
       "</style>\n",
       "<table border=\"1\" class=\"dataframe\">\n",
       "  <thead>\n",
       "    <tr style=\"text-align: right;\">\n",
       "      <th></th>\n",
       "      <th>dep</th>\n",
       "      <th>nomdep</th>\n",
       "      <th>PROV</th>\n",
       "      <th>nomprov</th>\n",
       "      <th>sec</th>\n",
       "      <th>nombremunicipio</th>\n",
       "      <th>idloc</th>\n",
       "      <th>AsientoElectoral</th>\n",
       "      <th>dist</th>\n",
       "      <th>nomdist</th>\n",
       "      <th>...</th>\n",
       "      <th>CIRCUNDIST</th>\n",
       "      <th>nomCircun</th>\n",
       "      <th>TipoCircunscripcion</th>\n",
       "      <th>RECI</th>\n",
       "      <th>nombrerecinto</th>\n",
       "      <th>nummesa</th>\n",
       "      <th>mesa</th>\n",
       "      <th>Habilitados</th>\n",
       "      <th>Inhabilitados\\n(Ciudadanos \\nNo votantes)</th>\n",
       "      <th>N_MESA</th>\n",
       "    </tr>\n",
       "  </thead>\n",
       "  <tbody>\n",
       "    <tr>\n",
       "      <th>0</th>\n",
       "      <td>1.0</td>\n",
       "      <td>Chuquisaca</td>\n",
       "      <td>1.0</td>\n",
       "      <td>Oropeza</td>\n",
       "      <td>3.0</td>\n",
       "      <td>Poroma</td>\n",
       "      <td>2954.0</td>\n",
       "      <td>Alamos(Zanabria)</td>\n",
       "      <td>8.0</td>\n",
       "      <td>SIJCHA - ALAMOS (ZANABRIA)</td>\n",
       "      <td>...</td>\n",
       "      <td>3.0</td>\n",
       "      <td>Tercera-Chuquisaca</td>\n",
       "      <td>Uninominal</td>\n",
       "      <td>1.0</td>\n",
       "      <td>Unidad Educativa Los Alamos</td>\n",
       "      <td>1.003201e+17</td>\n",
       "      <td>1.0</td>\n",
       "      <td>212</td>\n",
       "      <td>4</td>\n",
       "      <td>1.003201e+17</td>\n",
       "    </tr>\n",
       "    <tr>\n",
       "      <th>1</th>\n",
       "      <td>1.0</td>\n",
       "      <td>Chuquisaca</td>\n",
       "      <td>1.0</td>\n",
       "      <td>Oropeza</td>\n",
       "      <td>3.0</td>\n",
       "      <td>Poroma</td>\n",
       "      <td>3715.0</td>\n",
       "      <td>Calizaya</td>\n",
       "      <td>1.0</td>\n",
       "      <td>SIN DISTRITO</td>\n",
       "      <td>...</td>\n",
       "      <td>3.0</td>\n",
       "      <td>Tercera-Chuquisaca</td>\n",
       "      <td>Uninominal</td>\n",
       "      <td>1.0</td>\n",
       "      <td>Unidad Educativa Calizaya</td>\n",
       "      <td>1.003201e+17</td>\n",
       "      <td>1.0</td>\n",
       "      <td>123</td>\n",
       "      <td>1</td>\n",
       "      <td>1.003201e+17</td>\n",
       "    </tr>\n",
       "    <tr>\n",
       "      <th>2</th>\n",
       "      <td>1.0</td>\n",
       "      <td>Chuquisaca</td>\n",
       "      <td>1.0</td>\n",
       "      <td>Oropeza</td>\n",
       "      <td>3.0</td>\n",
       "      <td>Poroma</td>\n",
       "      <td>2888.0</td>\n",
       "      <td>Challcha</td>\n",
       "      <td>3.0</td>\n",
       "      <td>POROMA - CHALLCHA</td>\n",
       "      <td>...</td>\n",
       "      <td>3.0</td>\n",
       "      <td>Tercera-Chuquisaca</td>\n",
       "      <td>Uninominal</td>\n",
       "      <td>1.0</td>\n",
       "      <td>Escuela Central Challcha</td>\n",
       "      <td>1.003201e+17</td>\n",
       "      <td>1.0</td>\n",
       "      <td>220</td>\n",
       "      <td>17</td>\n",
       "      <td>1.003201e+17</td>\n",
       "    </tr>\n",
       "    <tr>\n",
       "      <th>3</th>\n",
       "      <td>1.0</td>\n",
       "      <td>Chuquisaca</td>\n",
       "      <td>1.0</td>\n",
       "      <td>Oropeza</td>\n",
       "      <td>3.0</td>\n",
       "      <td>Poroma</td>\n",
       "      <td>2888.0</td>\n",
       "      <td>Challcha</td>\n",
       "      <td>3.0</td>\n",
       "      <td>POROMA - CHALLCHA</td>\n",
       "      <td>...</td>\n",
       "      <td>3.0</td>\n",
       "      <td>Tercera-Chuquisaca</td>\n",
       "      <td>Uninominal</td>\n",
       "      <td>1.0</td>\n",
       "      <td>Escuela Central Challcha</td>\n",
       "      <td>1.003201e+17</td>\n",
       "      <td>2.0</td>\n",
       "      <td>132</td>\n",
       "      <td>10</td>\n",
       "      <td>1.003201e+17</td>\n",
       "    </tr>\n",
       "    <tr>\n",
       "      <th>4</th>\n",
       "      <td>1.0</td>\n",
       "      <td>Chuquisaca</td>\n",
       "      <td>1.0</td>\n",
       "      <td>Oropeza</td>\n",
       "      <td>3.0</td>\n",
       "      <td>Poroma</td>\n",
       "      <td>3374.0</td>\n",
       "      <td>Chijmuri</td>\n",
       "      <td>0.0</td>\n",
       "      <td>SIN DISTRITO</td>\n",
       "      <td>...</td>\n",
       "      <td>3.0</td>\n",
       "      <td>Tercera-Chuquisaca</td>\n",
       "      <td>Uninominal</td>\n",
       "      <td>1.0</td>\n",
       "      <td>Unidad Educativa Chijmuri</td>\n",
       "      <td>1.003201e+17</td>\n",
       "      <td>1.0</td>\n",
       "      <td>192</td>\n",
       "      <td>3</td>\n",
       "      <td>1.003201e+17</td>\n",
       "    </tr>\n",
       "    <tr>\n",
       "      <th>...</th>\n",
       "      <td>...</td>\n",
       "      <td>...</td>\n",
       "      <td>...</td>\n",
       "      <td>...</td>\n",
       "      <td>...</td>\n",
       "      <td>...</td>\n",
       "      <td>...</td>\n",
       "      <td>...</td>\n",
       "      <td>...</td>\n",
       "      <td>...</td>\n",
       "      <td>...</td>\n",
       "      <td>...</td>\n",
       "      <td>...</td>\n",
       "      <td>...</td>\n",
       "      <td>...</td>\n",
       "      <td>...</td>\n",
       "      <td>...</td>\n",
       "      <td>...</td>\n",
       "      <td>...</td>\n",
       "      <td>...</td>\n",
       "      <td>...</td>\n",
       "    </tr>\n",
       "    <tr>\n",
       "      <th>34152</th>\n",
       "      <td>9.0</td>\n",
       "      <td>Pando</td>\n",
       "      <td>5.0</td>\n",
       "      <td>Federico Román</td>\n",
       "      <td>2.0</td>\n",
       "      <td>Villa Nueva</td>\n",
       "      <td>1192.0</td>\n",
       "      <td>Loma Alta</td>\n",
       "      <td>0.0</td>\n",
       "      <td>SIN DISTRITO</td>\n",
       "      <td>...</td>\n",
       "      <td>63.0</td>\n",
       "      <td>Sexagésimo Tercera-Pando</td>\n",
       "      <td>Uninominal</td>\n",
       "      <td>77.0</td>\n",
       "      <td>U.E.  Andres Idagua</td>\n",
       "      <td>1.003209e+17</td>\n",
       "      <td>3.0</td>\n",
       "      <td>202</td>\n",
       "      <td>4</td>\n",
       "      <td>1.003209e+17</td>\n",
       "    </tr>\n",
       "    <tr>\n",
       "      <th>34153</th>\n",
       "      <td>9.0</td>\n",
       "      <td>Pando</td>\n",
       "      <td>5.0</td>\n",
       "      <td>Federico Román</td>\n",
       "      <td>2.0</td>\n",
       "      <td>Villa Nueva</td>\n",
       "      <td>4102.0</td>\n",
       "      <td>Perseverancia</td>\n",
       "      <td>0.0</td>\n",
       "      <td>SIN DISTRITO</td>\n",
       "      <td>...</td>\n",
       "      <td>63.0</td>\n",
       "      <td>Sexagésimo Tercera-Pando</td>\n",
       "      <td>Uninominal</td>\n",
       "      <td>25511.0</td>\n",
       "      <td>U.E. 24 de Junio</td>\n",
       "      <td>1.003209e+17</td>\n",
       "      <td>1.0</td>\n",
       "      <td>94</td>\n",
       "      <td>0</td>\n",
       "      <td>1.003209e+17</td>\n",
       "    </tr>\n",
       "    <tr>\n",
       "      <th>34154</th>\n",
       "      <td>9.0</td>\n",
       "      <td>Pando</td>\n",
       "      <td>5.0</td>\n",
       "      <td>Federico Román</td>\n",
       "      <td>2.0</td>\n",
       "      <td>Villa Nueva</td>\n",
       "      <td>4101.0</td>\n",
       "      <td>San Ignacio</td>\n",
       "      <td>0.0</td>\n",
       "      <td>SIN DISTRITO</td>\n",
       "      <td>...</td>\n",
       "      <td>63.0</td>\n",
       "      <td>Sexagésimo Tercera-Pando</td>\n",
       "      <td>Uninominal</td>\n",
       "      <td>25510.0</td>\n",
       "      <td>U.E. Mariscal Sucre</td>\n",
       "      <td>1.003209e+17</td>\n",
       "      <td>1.0</td>\n",
       "      <td>61</td>\n",
       "      <td>0</td>\n",
       "      <td>1.003209e+17</td>\n",
       "    </tr>\n",
       "    <tr>\n",
       "      <th>34155</th>\n",
       "      <td>9.0</td>\n",
       "      <td>Pando</td>\n",
       "      <td>5.0</td>\n",
       "      <td>Federico Román</td>\n",
       "      <td>2.0</td>\n",
       "      <td>Villa Nueva</td>\n",
       "      <td>3405.0</td>\n",
       "      <td>Santa Crucito</td>\n",
       "      <td>0.0</td>\n",
       "      <td>SIN DISTRITO</td>\n",
       "      <td>...</td>\n",
       "      <td>63.0</td>\n",
       "      <td>Sexagésimo Tercera-Pando</td>\n",
       "      <td>Uninominal</td>\n",
       "      <td>1.0</td>\n",
       "      <td>U.E.  Roberto Gonzales</td>\n",
       "      <td>1.003209e+17</td>\n",
       "      <td>1.0</td>\n",
       "      <td>187</td>\n",
       "      <td>3</td>\n",
       "      <td>1.003209e+17</td>\n",
       "    </tr>\n",
       "    <tr>\n",
       "      <th>34156</th>\n",
       "      <td>9.0</td>\n",
       "      <td>Pando</td>\n",
       "      <td>5.0</td>\n",
       "      <td>Federico Román</td>\n",
       "      <td>2.0</td>\n",
       "      <td>Villa Nueva</td>\n",
       "      <td>3303.0</td>\n",
       "      <td>Santa Fé</td>\n",
       "      <td>0.0</td>\n",
       "      <td>SIN DISTRITO</td>\n",
       "      <td>...</td>\n",
       "      <td>63.0</td>\n",
       "      <td>Sexagésimo Tercera-Pando</td>\n",
       "      <td>Uninominal</td>\n",
       "      <td>1.0</td>\n",
       "      <td>U.E. Juana Azurduy De Padilla</td>\n",
       "      <td>1.003209e+17</td>\n",
       "      <td>1.0</td>\n",
       "      <td>120</td>\n",
       "      <td>6</td>\n",
       "      <td>1.003209e+17</td>\n",
       "    </tr>\n",
       "  </tbody>\n",
       "</table>\n",
       "<p>34157 rows × 22 columns</p>\n",
       "</div>"
      ],
      "text/plain": [
       "       dep      nomdep  PROV         nomprov  sec nombremunicipio   idloc  \\\n",
       "0      1.0  Chuquisaca   1.0         Oropeza  3.0          Poroma  2954.0   \n",
       "1      1.0  Chuquisaca   1.0         Oropeza  3.0          Poroma  3715.0   \n",
       "2      1.0  Chuquisaca   1.0         Oropeza  3.0          Poroma  2888.0   \n",
       "3      1.0  Chuquisaca   1.0         Oropeza  3.0          Poroma  2888.0   \n",
       "4      1.0  Chuquisaca   1.0         Oropeza  3.0          Poroma  3374.0   \n",
       "...    ...         ...   ...             ...  ...             ...     ...   \n",
       "34152  9.0       Pando   5.0  Federico Román  2.0     Villa Nueva  1192.0   \n",
       "34153  9.0       Pando   5.0  Federico Román  2.0     Villa Nueva  4102.0   \n",
       "34154  9.0       Pando   5.0  Federico Román  2.0     Villa Nueva  4101.0   \n",
       "34155  9.0       Pando   5.0  Federico Román  2.0     Villa Nueva  3405.0   \n",
       "34156  9.0       Pando   5.0  Federico Román  2.0     Villa Nueva  3303.0   \n",
       "\n",
       "       AsientoElectoral  dist                     nomdist  ...  CIRCUNDIST  \\\n",
       "0      Alamos(Zanabria)   8.0  SIJCHA - ALAMOS (ZANABRIA)  ...         3.0   \n",
       "1              Calizaya   1.0                SIN DISTRITO  ...         3.0   \n",
       "2              Challcha   3.0           POROMA - CHALLCHA  ...         3.0   \n",
       "3              Challcha   3.0           POROMA - CHALLCHA  ...         3.0   \n",
       "4              Chijmuri   0.0                SIN DISTRITO  ...         3.0   \n",
       "...                 ...   ...                         ...  ...         ...   \n",
       "34152         Loma Alta   0.0                SIN DISTRITO  ...        63.0   \n",
       "34153     Perseverancia   0.0                SIN DISTRITO  ...        63.0   \n",
       "34154       San Ignacio   0.0                SIN DISTRITO  ...        63.0   \n",
       "34155     Santa Crucito   0.0                SIN DISTRITO  ...        63.0   \n",
       "34156          Santa Fé   0.0                SIN DISTRITO  ...        63.0   \n",
       "\n",
       "                      nomCircun  TipoCircunscripcion     RECI  \\\n",
       "0            Tercera-Chuquisaca           Uninominal      1.0   \n",
       "1            Tercera-Chuquisaca           Uninominal      1.0   \n",
       "2            Tercera-Chuquisaca           Uninominal      1.0   \n",
       "3            Tercera-Chuquisaca           Uninominal      1.0   \n",
       "4            Tercera-Chuquisaca           Uninominal      1.0   \n",
       "...                         ...                  ...      ...   \n",
       "34152  Sexagésimo Tercera-Pando           Uninominal     77.0   \n",
       "34153  Sexagésimo Tercera-Pando           Uninominal  25511.0   \n",
       "34154  Sexagésimo Tercera-Pando           Uninominal  25510.0   \n",
       "34155  Sexagésimo Tercera-Pando           Uninominal      1.0   \n",
       "34156  Sexagésimo Tercera-Pando           Uninominal      1.0   \n",
       "\n",
       "                       nombrerecinto       nummesa mesa  Habilitados   \\\n",
       "0        Unidad Educativa Los Alamos  1.003201e+17  1.0           212   \n",
       "1          Unidad Educativa Calizaya  1.003201e+17  1.0           123   \n",
       "2           Escuela Central Challcha  1.003201e+17  1.0           220   \n",
       "3           Escuela Central Challcha  1.003201e+17  2.0           132   \n",
       "4          Unidad Educativa Chijmuri  1.003201e+17  1.0           192   \n",
       "...                              ...           ...  ...           ...   \n",
       "34152            U.E.  Andres Idagua  1.003209e+17  3.0           202   \n",
       "34153               U.E. 24 de Junio  1.003209e+17  1.0            94   \n",
       "34154            U.E. Mariscal Sucre  1.003209e+17  1.0            61   \n",
       "34155         U.E.  Roberto Gonzales  1.003209e+17  1.0           187   \n",
       "34156  U.E. Juana Azurduy De Padilla  1.003209e+17  1.0           120   \n",
       "\n",
       "       Inhabilitados\\n(Ciudadanos \\nNo votantes)        N_MESA  \n",
       "0                                              4  1.003201e+17  \n",
       "1                                              1  1.003201e+17  \n",
       "2                                             17  1.003201e+17  \n",
       "3                                             10  1.003201e+17  \n",
       "4                                              3  1.003201e+17  \n",
       "...                                          ...           ...  \n",
       "34152                                          4  1.003209e+17  \n",
       "34153                                          0  1.003209e+17  \n",
       "34154                                          0  1.003209e+17  \n",
       "34155                                          3  1.003209e+17  \n",
       "34156                                          6  1.003209e+17  \n",
       "\n",
       "[34157 rows x 22 columns]"
      ]
     },
     "execution_count": 57,
     "metadata": {},
     "output_type": "execute_result"
    }
   ],
   "source": [
    "pn1"
   ]
  },
  {
   "cell_type": "code",
   "execution_count": 62,
   "metadata": {},
   "outputs": [
    {
     "name": "stderr",
     "output_type": "stream",
     "text": [
      "/Users/diego/miniconda3/envs/ebol20/lib/python3.7/site-packages/ipykernel_launcher.py:2: SettingWithCopyWarning: \n",
      "A value is trying to be set on a copy of a slice from a DataFrame.\n",
      "Try using .loc[row_indexer,col_indexer] = value instead\n",
      "\n",
      "See the caveats in the documentation: https://pandas.pydata.org/pandas-docs/stable/user_guide/indexing.html#returning-a-view-versus-a-copy\n",
      "  \n"
     ]
    }
   ],
   "source": [
    "pn1[[*dic_n.values(),'nummesa']]\n",
    "pn1['N_MESA'] = pn1['nummesa'].astype(np.int64)"
   ]
  },
  {
   "cell_type": "code",
   "execution_count": 65,
   "metadata": {},
   "outputs": [
    {
     "ename": "TypeError",
     "evalue": "astype() missing 1 required positional argument: 'dtype'",
     "output_type": "error",
     "traceback": [
      "\u001b[0;31m---------------------------------------------------------------------------\u001b[0m",
      "\u001b[0;31mTypeError\u001b[0m                                 Traceback (most recent call last)",
      "\u001b[0;32m<ipython-input-65-ab614b9b60c0>\u001b[0m in \u001b[0;36m<module>\u001b[0;34m()\u001b[0m\n\u001b[0;32m----> 1\u001b[0;31m \u001b[0mpn1\u001b[0m\u001b[0;34m[\u001b[0m\u001b[0;34m'nummesa'\u001b[0m\u001b[0;34m]\u001b[0m\u001b[0;34m.\u001b[0m\u001b[0mastype\u001b[0m\u001b[0;34m(\u001b[0m\u001b[0;34m)\u001b[0m\u001b[0;34m\u001b[0m\u001b[0;34m\u001b[0m\u001b[0m\n\u001b[0m",
      "\u001b[0;31mTypeError\u001b[0m: astype() missing 1 required positional argument: 'dtype'"
     ]
    }
   ],
   "source": [
    "pn1['nummesa'].astype()"
   ]
  },
  {
   "cell_type": "code",
   "execution_count": null,
   "metadata": {},
   "outputs": [],
   "source": []
  }
 ],
 "metadata": {
  "jupytext": {
   "encoding": "# -*- coding: utf-8 -*-",
   "text_representation": {
    "extension": ".py",
    "format_name": "percent",
    "format_version": "1.3",
    "jupytext_version": "1.4.0"
   }
  },
  "kernelspec": {
   "display_name": "ebol20",
   "language": "python",
   "name": "ebol20"
  },
  "language_info": {
   "codemirror_mode": {
    "name": "ipython",
    "version": 3
   },
   "file_extension": ".py",
   "mimetype": "text/x-python",
   "name": "python",
   "nbconvert_exporter": "python",
   "pygments_lexer": "ipython3",
   "version": "3.7.8"
  },
  "toc": {
   "base_numbering": 1,
   "nav_menu": {},
   "number_sections": true,
   "sideBar": true,
   "skip_h1_title": false,
   "title_cell": "Table of Contents",
   "title_sidebar": "Contents",
   "toc_cell": false,
   "toc_position": {},
   "toc_section_display": true,
   "toc_window_display": true
  },
  "varInspector": {
   "cols": {
    "lenName": 16,
    "lenType": 16,
    "lenVar": 40
   },
   "kernels_config": {
    "python": {
     "delete_cmd_postfix": "",
     "delete_cmd_prefix": "del ",
     "library": "var_list.py",
     "varRefreshCmd": "print(var_dic_list())"
    },
    "r": {
     "delete_cmd_postfix": ") ",
     "delete_cmd_prefix": "rm(",
     "library": "var_list.r",
     "varRefreshCmd": "cat(var_dic_list()) "
    }
   },
   "types_to_exclude": [
    "module",
    "function",
    "builtin_function_or_method",
    "instance",
    "_Feature"
   ],
   "window_display": false
  }
 },
 "nbformat": 4,
 "nbformat_minor": 4
}
