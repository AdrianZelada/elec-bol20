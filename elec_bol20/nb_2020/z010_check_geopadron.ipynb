{
 "cells": [
  {
   "cell_type": "code",
   "execution_count": 1,
   "metadata": {},
   "outputs": [],
   "source": [
    "from elec_bol20 import *\n",
    "import elec_bol20.util as ebu"
   ]
  },
  {
   "cell_type": "markdown",
   "metadata": {},
   "source": [
    "## open file"
   ]
  },
  {
   "cell_type": "code",
   "execution_count": 2,
   "metadata": {},
   "outputs": [],
   "source": [
    "i = 'reci_interior'\n",
    "e = 'reci_exterior'\n",
    "path = os.path.join(ebu.DATA_PATH0,'2020','2020_geo_padron_final/2020_geo_padron_final.xlsx')\n",
    "di = pd.read_excel(path,sheet_name=i)\n",
    "de = pd.read_excel(path,sheet_name=e)"
   ]
  },
  {
   "cell_type": "markdown",
   "metadata": {
    "heading_collapsed": true
   },
   "source": [
    "##### ver "
   ]
  },
  {
   "cell_type": "code",
   "execution_count": 3,
   "metadata": {
    "hidden": true
   },
   "outputs": [
    {
     "data": {
      "text/plain": [
       "['RECI_GEO_FID',\n",
       " 'NumPaís',\n",
       " 'País',\n",
       " 'NumDep',\n",
       " 'Departamento',\n",
       " 'NumProv',\n",
       " 'Provincia',\n",
       " 'NumMuni',\n",
       " 'Municipio',\n",
       " 'idloc',\n",
       " 'AsientoElectoral',\n",
       " 'NumDist',\n",
       " 'Distrito',\n",
       " 'NumZona',\n",
       " 'Zona',\n",
       " 'CIRCUNDIST',\n",
       " 'nomCircun',\n",
       " 'TipoCircunscripcion',\n",
       " 'RECI',\n",
       " 'Recinto',\n",
       " 'Mesas',\n",
       " 'Habilitados',\n",
       " 'latitud',\n",
       " 'longitud',\n",
       " 'rural_urbano',\n",
       " 'denspop']"
      ]
     },
     "execution_count": 3,
     "metadata": {},
     "output_type": "execute_result"
    }
   ],
   "source": [
    "['RECI_GEO_FID', 'NumPaís', 'País', 'NumDep', 'Departamento', 'NumProv',\n",
    "       'Provincia', 'NumMuni', 'Municipio', 'idloc', 'AsientoElectoral',\n",
    "       'NumDist', 'Distrito', 'NumZona', 'Zona', 'CIRCUNDIST', 'nomCircun',\n",
    "       'TipoCircunscripcion', 'RECI', 'Recinto', 'Mesas', 'Habilitados',\n",
    "       'latitud', 'longitud', 'rural_urbano', 'denspop']\n",
    "\n"
   ]
  },
  {
   "cell_type": "code",
   "execution_count": 4,
   "metadata": {
    "hidden": true
   },
   "outputs": [
    {
     "data": {
      "text/plain": [
       "2483"
      ]
     },
     "execution_count": 4,
     "metadata": {},
     "output_type": "execute_result"
    }
   ],
   "source": [
    "di['RECI'].duplicated().sum()"
   ]
  },
  {
   "cell_type": "code",
   "execution_count": 5,
   "metadata": {
    "hidden": true
   },
   "outputs": [
    {
     "data": {
      "text/plain": [
       "0"
      ]
     },
     "execution_count": 5,
     "metadata": {},
     "output_type": "execute_result"
    }
   ],
   "source": [
    "di['RECI_GEO_FID'].duplicated().sum()"
   ]
  },
  {
   "cell_type": "code",
   "execution_count": 6,
   "metadata": {
    "hidden": true
   },
   "outputs": [
    {
     "data": {
      "text/plain": [
       "0"
      ]
     },
     "execution_count": 6,
     "metadata": {},
     "output_type": "execute_result"
    }
   ],
   "source": [
    "de['RECI'].duplicated().sum()"
   ]
  },
  {
   "cell_type": "code",
   "execution_count": 7,
   "metadata": {
    "hidden": true
   },
   "outputs": [
    {
     "data": {
      "text/plain": [
       "52"
      ]
     },
     "execution_count": 7,
     "metadata": {},
     "output_type": "execute_result"
    }
   ],
   "source": [
    "de['RECI_GEO_FID'].duplicated().sum()"
   ]
  },
  {
   "cell_type": "code",
   "execution_count": 8,
   "metadata": {
    "hidden": true
   },
   "outputs": [
    {
     "data": {
      "text/plain": [
       "Bolivia    5322\n",
       "Name: País, dtype: int64"
      ]
     },
     "execution_count": 8,
     "metadata": {},
     "output_type": "execute_result"
    }
   ],
   "source": [
    "di['País'].value_counts()"
   ]
  },
  {
   "cell_type": "code",
   "execution_count": 9,
   "metadata": {
    "hidden": true
   },
   "outputs": [
    {
     "data": {
      "text/plain": [
       "5322"
      ]
     },
     "execution_count": 9,
     "metadata": {},
     "output_type": "execute_result"
    }
   ],
   "source": [
    "len(di)"
   ]
  },
  {
   "cell_type": "code",
   "execution_count": 10,
   "metadata": {
    "hidden": true
   },
   "outputs": [
    {
     "data": {
      "text/plain": [
       "162"
      ]
     },
     "execution_count": 10,
     "metadata": {},
     "output_type": "execute_result"
    }
   ],
   "source": [
    "len(de)"
   ]
  },
  {
   "cell_type": "markdown",
   "metadata": {},
   "source": [
    "#### merge"
   ]
  },
  {
   "cell_type": "code",
   "execution_count": 15,
   "metadata": {},
   "outputs": [],
   "source": [
    "je = ['NumPaís','NumDep','NumProv','NumMuni','idloc',\t'NumDist',\t'NumZona',\t'RECI']\n",
    "te = ['pais','Ciudad','PROV','sec','idloc','dist','zona','RECI']\n",
    "\n",
    "jn = ['NumDep','NumProv','NumMuni','idloc','NumDist','NumZona','CIRCUNDIST','RECI']\n",
    "tn = ['dep','PROV','sec','idloc','dist','zona','CIRCUNDIST','RECI'] "
   ]
  },
  {
   "cell_type": "code",
   "execution_count": 19,
   "metadata": {},
   "outputs": [],
   "source": [
    "dic_e = {a:b for a,b in zip(je,te) }\n",
    "dic_n = {a:b for a,b in zip(jn,tn) }"
   ]
  },
  {
   "cell_type": "code",
   "execution_count": 18,
   "metadata": {},
   "outputs": [
    {
     "data": {
      "text/plain": [
       "{'NumPaís': 'pais',\n",
       " 'NumDep': 'Ciudad',\n",
       " 'NumProv': 'PROV',\n",
       " 'NumMuni': 'sec',\n",
       " 'idloc': 'idloc',\n",
       " 'NumDist': 'dist',\n",
       " 'NumZona': 'zona',\n",
       " 'RECI': 'RECI'}"
      ]
     },
     "execution_count": 18,
     "metadata": {},
     "output_type": "execute_result"
    }
   ],
   "source": []
  },
  {
   "cell_type": "code",
   "execution_count": null,
   "metadata": {},
   "outputs": [],
   "source": []
  }
 ],
 "metadata": {
  "jupytext": {
   "encoding": "# -*- coding: utf-8 -*-",
   "text_representation": {
    "extension": ".py",
    "format_name": "percent",
    "format_version": "1.3",
    "jupytext_version": "1.4.0"
   }
  },
  "kernelspec": {
   "display_name": "ebol20",
   "language": "python",
   "name": "ebol20"
  },
  "language_info": {
   "codemirror_mode": {
    "name": "ipython",
    "version": 3
   },
   "file_extension": ".py",
   "mimetype": "text/x-python",
   "name": "python",
   "nbconvert_exporter": "python",
   "pygments_lexer": "ipython3",
   "version": "3.7.8"
  },
  "toc": {
   "base_numbering": 1,
   "nav_menu": {},
   "number_sections": true,
   "sideBar": true,
   "skip_h1_title": false,
   "title_cell": "Table of Contents",
   "title_sidebar": "Contents",
   "toc_cell": false,
   "toc_position": {},
   "toc_section_display": true,
   "toc_window_display": true
  },
  "varInspector": {
   "cols": {
    "lenName": 16,
    "lenType": 16,
    "lenVar": 40
   },
   "kernels_config": {
    "python": {
     "delete_cmd_postfix": "",
     "delete_cmd_prefix": "del ",
     "library": "var_list.py",
     "varRefreshCmd": "print(var_dic_list())"
    },
    "r": {
     "delete_cmd_postfix": ") ",
     "delete_cmd_prefix": "rm(",
     "library": "var_list.r",
     "varRefreshCmd": "cat(var_dic_list()) "
    }
   },
   "types_to_exclude": [
    "module",
    "function",
    "builtin_function_or_method",
    "instance",
    "_Feature"
   ],
   "window_display": false
  }
 },
 "nbformat": 4,
 "nbformat_minor": 4
}
