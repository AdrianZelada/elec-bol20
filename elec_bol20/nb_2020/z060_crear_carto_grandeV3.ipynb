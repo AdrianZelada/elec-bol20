{
 "cells": [
  {
   "cell_type": "markdown",
   "metadata": {},
   "source": [
    "###### init"
   ]
  },
  {
   "cell_type": "code",
   "execution_count": null,
   "metadata": {},
   "outputs": [],
   "source": [
    "# de los resultados generales crea silmulaciones con % de\n",
    "# datos para que luego sean procesados"
   ]
  },
  {
   "cell_type": "code",
   "execution_count": null,
   "metadata": {},
   "outputs": [],
   "source": [
    "# import\n",
    "from elec_bol20 import *\n",
    "import elec_bol20.util as ebu\n",
    "import bokeh.layouts\n",
    "from bokeh.models import ColumnDataSource, CustomJS, Slider\n",
    "from bokeh.plotting import Figure, output_file, show\n",
    "import bokeh.tile_providers"
   ]
  },
  {
   "cell_type": "markdown",
   "metadata": {},
   "source": [
    "###### abrir los datos\n",
    "abrimos los datos del padrón de votación del 2019"
   ]
  },
  {
   "cell_type": "code",
   "execution_count": null,
   "metadata": {},
   "outputs": [],
   "source": [
    "p = os.path.join(ebu.DATA_PATH1_2020,'z050R_dummy_votearrival_20.csv')\n",
    "df_comp = pd.read_csv(p).set_index('ID_MESA')\n",
    "['ID_MESA', 'HAB', 'INHAB', 'VV']\n",
    "\n",
    "df_comp['ID_RECI'] = (df_comp.index/100).astype(np.int64)\n",
    "df_comp['COUNT'] = True\n",
    "\n",
    "p = os.path.join(ebu.DATA_PATH1_2020,'z010R_geopadron_mesas_2020_ALL.csv')\n",
    "df_all = pd.read_csv(p).set_index('ID_MESA')\n",
    "['ID_RECI', 'ID_MESA', 'HAB', 'INHAB']\n",
    "\n",
    "df_all['VV'] = 0\n",
    "df_all['COUNT'] = False\n",
    "\n",
    "p = os.path.join(ebu.DATA_PATH1_2020,'z020_geopadron_recintos_2020_ALL_DEN.csv')\n",
    "df_den = pd.read_csv(p).set_index('ID_RECI')\n",
    "['ID_RECI', 'LAT', 'LON', 'HAB', 'INHAB', 'PAIS', 'N_MESAS', 'REC',\n",
    " 'MUN', 'BOL', 'CIU', 'PROV', 'DEP', 'URB', 'DEN_C', 'DEN']\n",
    "\n",
    "df_den = df_den[['LAT', 'LON', 'PAIS', 'N_MESAS', 'REC',\n",
    "                 'MUN', 'BOL', 'CIU', 'PROV', 'DEP', 'URB', 'DEN_C', 'DEN']]\n",
    "\n",
    "_s  = df_comp.index.isin(df_all.index)\n",
    "assert (~_s).sum() == 0\n",
    "\n",
    "b = ~df_all.index.isin(df_comp.index)\n",
    "df_trim = df_all[b]\n",
    "assert len(df_all) - len(df_comp) == len(df_trim)"
   ]
  },
  {
   "cell_type": "code",
   "execution_count": null,
   "metadata": {},
   "outputs": [],
   "source": [
    "#DEFINICIONES\n",
    "MYE = -5\n",
    "MYS = -25\n",
    "MXE = -50\n",
    "MXS = -75\n",
    "CYE = -5\n",
    "CYS = -25\n",
    "CXE = -50\n",
    "CXS = -75\n",
    "BAR_TITLE = \"CC  < diferencia [%] >  MAS\"\n",
    "# PIXELS\n",
    "FIG_WIDTH = 700\n",
    "C_BAR_HIGH = 80\n",
    "C_BAR_LOW = -80\n",
    "PALETTE = ebu.P_DIF\n",
    "CART_SLIDER_INIT = .5\n",
    "FILE_OUT = ebu.DIR+'/htlml_1_intermedios/2020/z060_carto_map_mas_cc.html'\n",
    "\n",
    "MAP_CIRCLE_SIZE_OFFSET = 5\n",
    "RATIO_CIRCLE_MAP = 7\n",
    "RATIO_CIRCLE_CARTO = 500\n",
    "TOOL_TIP = [\n",
    "    ('Inscritos', '@HAB'),\n",
    "    ('PAIS, Municipalidad', '@PAIS, @MUN'),\n",
    "    ('Recinto', '@REC'),\n",
    "    ('MAS [%]', '@mas{0.0}'),\n",
    "    ('CC [%]','@cc{0.0}'),\n",
    "    ('Diferencia [%]', '@ad_mas_cc{0.0} (@mas_o_cc)'),\n",
    "    ('------','------')\n",
    "    # ('DEN %', '@DEN')\n",
    "    # ('PAIS', '@PAIS'),\n",
    "]\n",
    "#\n",
    "\n",
    "\n",
    "\n",
    "df = ebu.open_combine_2019()\n",
    "_mean = ['X', 'Y', 'LAT', 'LON', 'DEN', ]\n",
    "_sum = ['HAB', 'CC', 'MAS', 'PDC', 'VV']\n",
    "_first = ['PAIS', 'REC', 'MUN', 'BOL']\n",
    "# agrupamos por recinto\n",
    "_gr = df.groupby('ID_RECI')\n",
    "rec_df = _gr[_mean].mean()\n",
    "rec_df[_sum] = _gr[_sum].sum()\n",
    "rec_df[_first] = _gr[_first].first()\n",
    "\n",
    "rec_df['D_MAS_CC'] = rec_df['MAS'] - rec_df['CC']\n",
    "rec_df['d_mas_cc'] = rec_df['D_MAS_CC'] / rec_df['VV'] * 100\n",
    "rec_df['r'] = np.sqrt(rec_df['HAB']) / RATIO_CIRCLE_CARTO\n",
    "rec_df['r2'] = np.sqrt(rec_df['HAB']) / RATIO_CIRCLE_MAP + MAP_CIRCLE_SIZE_OFFSET\n",
    "\n",
    "\n",
    "res = ebu.lola_to_cart(rec_df['LON'].values, rec_df['LAT'].values)\n",
    "rec_df['GX'] = res[0]\n",
    "rec_df['GY'] = res[1]\n",
    "\n",
    "needed_cols = ['X', 'Y', 'd_mas_cc', 'r', 'LAT', 'LON', 'PAIS', 'REC', 'MUN', 'DEN'\n",
    "                                                                              'GX', 'GY']"
   ]
  },
  {
   "cell_type": "code",
   "execution_count": null,
   "metadata": {},
   "outputs": [],
   "source": [
    "# order by density\n",
    "rec_df = rec_df.sort_values('DEN', axis=0, ascending=True)"
   ]
  },
  {
   "cell_type": "code",
   "execution_count": null,
   "metadata": {},
   "outputs": [],
   "source": [
    "# remove nans\n",
    "rec_df = rec_df.dropna(axis=0)\n",
    "assert rec_df.isna().sum().sum() == 0"
   ]
  },
  {
   "cell_type": "markdown",
   "metadata": {},
   "source": [
    "## Carto MAS - CC"
   ]
  },
  {
   "cell_type": "markdown",
   "metadata": {},
   "source": [
    "###### código"
   ]
  },
  {
   "cell_type": "code",
   "execution_count": null,
   "metadata": {},
   "outputs": [],
   "source": [
    "\n",
    "# output_file(os.path.join(ebu.DATA_FIG_OUT, \"carto_map_mas_cc.html\"))"
   ]
  },
  {
   "cell_type": "code",
   "execution_count": null,
   "metadata": {},
   "outputs": [],
   "source": [
    "# rec_df_spl = rec_df.sample(200).copy()\n",
    "rec_df_spl = rec_df.copy()"
   ]
  },
  {
   "cell_type": "code",
   "execution_count": null,
   "metadata": {},
   "outputs": [],
   "source": []
  },
  {
   "cell_type": "code",
   "execution_count": null,
   "metadata": {},
   "outputs": [],
   "source": [
    "# DATA\n",
    "# bokeh.plotting.output_notebook()\n",
    "bokeh.plotting.output_file(FILE_OUT)\n",
    "cart_init_val = CART_SLIDER_INIT\n",
    "data = rec_df_spl.copy()\n",
    "data['x'] = data['LON'] * (1 - cart_init_val) + data['X'] * cart_init_val\n",
    "data['y'] = data['LAT'] * (1 - cart_init_val) + data['Y'] * cart_init_val"
   ]
  },
  {
   "cell_type": "code",
   "execution_count": null,
   "metadata": {},
   "outputs": [],
   "source": [
    "# COLOR\n",
    "\n",
    "from bokeh.transform import linear_cmap\n",
    "from bokeh.transform import log_cmap\n",
    "\n",
    "cm = linear_cmap('d_mas_cc', palette=PALETTE, low=C_BAR_LOW, high=C_BAR_HIGH)\n",
    "# cm = log_cmap('DEN', palette=bokeh.palettes.Viridis11, low=1, high=10000)"
   ]
  },
  {
   "cell_type": "code",
   "execution_count": null,
   "metadata": {},
   "outputs": [],
   "source": [
    "# SOURCES\n",
    "data['mas'] = data['MAS']/data['VV'] * 100\n",
    "data['cc'] = data['CC']/data['VV'] * 100\n",
    "data['ad_mas_cc'] = data['d_mas_cc'].abs()\n",
    "data['mas_o_cc'] = 'n'\n",
    "data.loc[data['d_mas_cc']>=0,'mas_o_cc'] = 'MAS'\n",
    "data.loc[data['d_mas_cc']<0,'mas_o_cc'] = 'CC'"
   ]
  },
  {
   "cell_type": "code",
   "execution_count": null,
   "metadata": {},
   "outputs": [],
   "source": [
    "\n",
    "source_master = ColumnDataSource(data)\n",
    "source_red_map = ColumnDataSource({'gx': [], 'gy': []})\n",
    "la, lo = ebu.get_la_lo_bolivia()\n",
    "source_bol = ColumnDataSource({'la': la, 'lo': lo})\n",
    "# source_red_car = ColumnDataSource({'lo': [], 'la': []})"
   ]
  },
  {
   "cell_type": "code",
   "execution_count": null,
   "metadata": {},
   "outputs": [],
   "source": [
    "# JS CODE\n",
    "code_draw_red_map = \"\"\"\n",
    "const data = {'gx': [], 'gy': []}\n",
    "const indices = cb_data.index.indices\n",
    "for (var i = 0; i < indices.length; i++ ) {\n",
    "        data['gx'].push(source_master.data.GX[indices[i]])\n",
    "        data['gy'].push(source_master.data.GY[indices[i]])\n",
    "}\n",
    "source_red_map.data = data\n",
    "\"\"\"\n",
    "\n",
    "code_draw_red_car = \"\"\"\n",
    "const data = {'lo': [], 'la': []}\n",
    "const indices = cb_data.index.indices\n",
    "for (var i = 0; i < indices.length; i++) {\n",
    "        data['lo'].push(source_master.data.x[indices[i]])\n",
    "        data['la'].push(source_master.data.y[indices[i]])\n",
    "}\n",
    "source_red_car.data = data\n",
    "\"\"\"\n",
    "\n",
    "code_merged = \"\"\"\n",
    "const data_map = {'lo': [], 'la': []}\n",
    "const data_car = {'gx': [], 'gy': []}\n",
    "const indices = cb_data.index.indices\n",
    "for (var i = 0; i < indices.length; i++) {\n",
    "        data_map['lo'].push(source_master.data.x[indices[i]])\n",
    "        data_map['la'].push(source_master.data.y[indices[i]])\n",
    "        data_car['gx'].push(source_master.data.GX[indices[i]])\n",
    "        data_car['gy'].push(source_master.data.GY[indices[i]])\n",
    "}\n",
    "source_red_car.data = data_car\n",
    "source_red_map.data = data_map\n",
    "\"\"\"\n",
    "\n",
    "code_slider = \"\"\"\n",
    "    var data = source.data;\n",
    "    var f = cb_obj.value\n",
    "    var x = data['x']\n",
    "    var y = data['y']\n",
    "    var Y = data['Y']\n",
    "    var X = data['X']\n",
    "    var lat = data['LAT']\n",
    "    var lon = data['LON']\n",
    "    for (var i = 0; i < x.length; i++) {\n",
    "        y[i] = (1-f)*lat[i] + f*Y[i]\n",
    "        x[i] = (1-f)*lon[i] + f*X[i]\n",
    "    }\n",
    "    source.change.emit();\n",
    "\"\"\"\n",
    "\n",
    "# FIGURES\n",
    "pw = FIG_WIDTH\n",
    "cart_fig = Figure(plot_width=pw, plot_height=pw, output_backend=\"webgl\")\n",
    "map_fig = Figure(plot_width=pw, plot_height=pw,\n",
    "                 x_axis_type='mercator',\n",
    "                 y_axis_type='mercator',\n",
    "                 output_backend=\"webgl\",\n",
    "                 )\n",
    "cart_fig.background_fill_color = \"grey\"\n",
    "cart_fig.background_fill_alpha = .5\n",
    "# cb_fig = bokeh.plotting.Figure(plot_height=pw,plot_width=)\n",
    "# cb_fig.toolbar.logo = None\n",
    "# cb_fig.toolbar_location = None"
   ]
  },
  {
   "cell_type": "code",
   "execution_count": null,
   "metadata": {},
   "outputs": [],
   "source": [
    "# SCATTER\n",
    "\n",
    "# noinspection PyUnresolvedReferences\n",
    "# add tiles\n",
    "tile_provider = bokeh.tile_providers.get_provider(\n",
    "    bokeh.tile_providers.Vendors.CARTODBPOSITRON)\n",
    "map_fig.add_tile(tile_provider)\n",
    "\n",
    "# scatter in map\n",
    "map_fig.scatter(\n",
    "    'GX', 'GY', source=source_master, size='r2',\n",
    "    color=cm\n",
    ")\n",
    "\n",
    "#todo if we wont use map then we nee to delete the source\n",
    "# cart_fig.line('lo', 'la', source=source_bol, color='black')\n",
    "cart_fig.scatter('x', 'y', source=source_master, radius='r',\n",
    "                 color=cm\n",
    "                 )\n",
    "\n",
    "red_scat_map = map_fig.circle_cross('gx', 'gy',\n",
    "                                    source=source_red_map,\n",
    "                                    #                                color='red',\n",
    "                                    fill_color=None,\n",
    "                                    #                                line_color='green',\n",
    "                                    size=20,\n",
    "                                    line_color=\"white\",\n",
    "                                    line_width=4\n",
    "                                    )\n",
    "\n",
    "red_scat_map = map_fig.circle_cross('gx', 'gy',\n",
    "                                    source=source_red_map,\n",
    "                                    #                                color='red',\n",
    "                                    fill_color=None,\n",
    "                                    #                                line_color='green',\n",
    "                                    size=20,\n",
    "                                    line_color=\"red\",\n",
    "                                    line_width=1\n",
    "                                    )\n",
    "# red_scat_car = cart_fig.scatter('lo', 'la',\n",
    "# source=source_red_car, color='green')\n",
    "\n",
    "# add a hover tool that sets the link data for a hovered circle\n",
    "\n",
    "# callbacks\n",
    "callback_red_map = CustomJS(\n",
    "    args={'source_master': source_master,\n",
    "          'source_red_map': source_red_map,\n",
    "          # 'source_red_car':source_red_car\n",
    "          },\n",
    "    code=code_draw_red_map)\n",
    "# code = code_merged)\n",
    "\n",
    "# callback_red_car = CustomJS(\n",
    "#     args={'source_master': source_master, 'source_red_car': source_red_car},\n",
    "#     code=code_draw_red_car)\n",
    "\n",
    "# tools\n",
    "\n",
    "\n",
    "\n",
    "hover_cart = bokeh.models.HoverTool(\n",
    "    tooltips=TOOL_TIP,\n",
    "    callback=callback_red_map,\n",
    "    # renderers = [red_scat_car]\n",
    "\n",
    ")\n",
    "cart_fig.add_tools(hover_cart, )\n",
    "\n",
    "hover_map = bokeh.models.HoverTool(\n",
    "    tooltips=TOOL_TIP,\n",
    "    # callback=callback_red_car,\n",
    "    # renderers = [red_scat_map]\n",
    ")\n",
    "map_fig.add_tools(hover_map, )\n",
    "\n",
    "# slider\n",
    "callback_slider = CustomJS(args=dict(source=source_master),\n",
    "                           code=code_slider)\n",
    "\n",
    "slider = Slider(start=0, end=1, value=cart_init_val, step=.01, title=\"carto\")\n",
    "slider.js_on_change('value', callback_slider)"
   ]
  },
  {
   "cell_type": "code",
   "execution_count": null,
   "metadata": {
    "lines_to_next_cell": 0
   },
   "outputs": [],
   "source": [
    "# COLOR BAR\n",
    "ml = {int(i):str(np.abs(i)) for i in np.arange(-80,81,20)}\n",
    "cb = bokeh.models.ColorBar(\n",
    "    color_mapper=cm['transform'],\n",
    "    width=int(.9*FIG_WIDTH),\n",
    "    location=(0, 0),\n",
    "    #     title=\"DEN (N/km^2)\",\n",
    "    # title=(BAR_TITLE),\n",
    "    # margin=0,padding=0,\n",
    "    title_standoff=10,\n",
    "    # ticker=bokeh.models.LogTicker(),\n",
    "    orientation='horizontal',\n",
    "    major_label_overrides=ml\n",
    "\n",
    "\n",
    ")\n",
    "\n",
    "cart_fig.add_layout(cb, 'above')\n",
    "# cb.title_text_align = 'left'\n",
    "cart_fig.title.text=BAR_TITLE\n",
    "cart_fig.title.align='center'\n",
    "\n",
    "# layout = row(column(slider, cart_f),map_f)\n",
    "layout = bokeh.layouts.gridplot(\n",
    "    [[slider, None], [cart_fig, map_fig]]\n",
    "    , merge_tools=False,\n",
    "    sizing_mode='scale_width'\n",
    ")\n",
    "layout.width = 800\n",
    "# layout = bokeh.layouts.column([slider, cart_fig])\n",
    "\n",
    "cart_fig.x_range.start = CXS\n",
    "cart_fig.x_range.end = CXE\n",
    "cart_fig.y_range.start = CYS\n",
    "cart_fig.y_range.end = CYE\n",
    "\n",
    "_ll = ebu.lola_to_cart(lo=[MXS, MXE], la=[MYS, MYE])\n",
    "map_fig.x_range.start = _ll[0][0]\n",
    "map_fig.x_range.end = _ll[0][1]\n",
    "map_fig.y_range.start = _ll[1][0]\n",
    "map_fig.y_range.end = _ll[1][1]\n",
    "\n",
    "cart_fig.xaxis.major_tick_line_color = None  # turn off x-axis major ticks\n",
    "cart_fig.xaxis.minor_tick_line_color = None  # turn off x-axis minor ticks\n",
    "cart_fig.yaxis.major_tick_line_color = None  # turn off y-axis major ticks\n",
    "cart_fig.yaxis.minor_tick_line_color = None\n",
    "cart_fig.xaxis.major_label_text_font_size = '0pt'  # turn off x-axis tick labels\n",
    "cart_fig.yaxis.major_label_text_font_size = '0pt'  # turn off y-axis tick labels"
   ]
  },
  {
   "cell_type": "markdown",
   "metadata": {},
   "source": [
    "###### gráfica"
   ]
  },
  {
   "cell_type": "markdown",
   "metadata": {},
   "source": [
    "Y también podemos hacer correspondencia entre el cartograma (derecha) y el mapa real(izquierda)"
   ]
  },
  {
   "cell_type": "code",
   "execution_count": null,
   "metadata": {},
   "outputs": [],
   "source": [
    "bokeh.plotting.show(layout)"
   ]
  },
  {
   "cell_type": "code",
   "execution_count": null,
   "metadata": {},
   "outputs": [],
   "source": []
  },
  {
   "cell_type": "code",
   "execution_count": null,
   "metadata": {},
   "outputs": [],
   "source": []
  },
  {
   "cell_type": "code",
   "execution_count": null,
   "metadata": {},
   "outputs": [],
   "source": []
  },
  {
   "cell_type": "code",
   "execution_count": null,
   "metadata": {},
   "outputs": [],
   "source": []
  },
  {
   "cell_type": "code",
   "execution_count": null,
   "metadata": {},
   "outputs": [],
   "source": []
  }
 ],
 "metadata": {
  "jupytext": {
   "cell_metadata_filter": "-all",
   "encoding": "# -*- coding: utf-8 -*-",
   "formats": "ipynb,py:percent"
  },
  "kernelspec": {
   "display_name": "ebol20",
   "language": "python",
   "name": "ebol20"
  },
  "language_info": {
   "codemirror_mode": {
    "name": "ipython",
    "version": 3
   },
   "file_extension": ".py",
   "mimetype": "text/x-python",
   "name": "python",
   "nbconvert_exporter": "python",
   "pygments_lexer": "ipython3",
   "version": "3.7.8"
  }
 },
 "nbformat": 4,
 "nbformat_minor": 4
}
