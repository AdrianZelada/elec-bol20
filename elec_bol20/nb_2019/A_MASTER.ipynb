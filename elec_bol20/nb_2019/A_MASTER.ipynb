{
  "nbformat": 4,
  "nbformat_minor": 0,
  "metadata": {
    "jupytext": {
      "encoding": "# -*- coding: utf-8 -*-",
      "text_representation": {
        "extension": ".py",
        "format_name": "percent",
        "format_version": "1.3",
        "jupytext_version": "1.4.0"
      }
    },
    "kernelspec": {
      "display_name": "ebol20",
      "language": "python",
      "name": "ebol20"
    },
    "language_info": {
      "codemirror_mode": {
        "name": "ipython",
        "version": 3
      },
      "file_extension": ".py",
      "mimetype": "text/x-python",
      "name": "python",
      "nbconvert_exporter": "python",
      "pygments_lexer": "ipython3",
      "version": "3.7.8"
    },
    "toc": {
      "base_numbering": 1,
      "nav_menu": {},
      "number_sections": true,
      "sideBar": true,
      "skip_h1_title": false,
      "title_cell": "Table of Contents",
      "title_sidebar": "Contents",
      "toc_cell": false,
      "toc_position": {},
      "toc_section_display": true,
      "toc_window_display": false
    },
    "varInspector": {
      "cols": {
        "lenName": 16,
        "lenType": 16,
        "lenVar": 40
      },
      "kernels_config": {
        "python": {
          "delete_cmd_postfix": "",
          "delete_cmd_prefix": "del ",
          "library": "var_list.py",
          "varRefreshCmd": "print(var_dic_list())"
        },
        "r": {
          "delete_cmd_postfix": ") ",
          "delete_cmd_prefix": "rm(",
          "library": "var_list.r",
          "varRefreshCmd": "cat(var_dic_list()) "
        }
      },
      "types_to_exclude": [
        "module",
        "function",
        "builtin_function_or_method",
        "instance",
        "_Feature"
      ],
      "window_display": false
    },
    "colab": {
      "name": "A_MASTER.ipynb",
      "provenance": []
    }
  },
  "cells": [
    {
      "cell_type": "markdown",
      "metadata": {
        "id": "mEm8XmCNo40s"
      },
      "source": [
        "# Indice investigación para el 2019\n",
        "- Documentos importantes: \n",
        "\n",
        "  - [z015_generacion_carto.ipynb](z015_generacion_carto.ipynb)  \n",
        "      aqui generamos el cartograma y guardamos el file\n",
        "  - [z017_simulador_escenarios.ipynb](z017_simulador_escenarios.ipynb)  \n",
        "      simulaciones montecarlo de las predicciones. \n",
        "  - [z032_explicar_carto_map.ipynb](z032_explicar_carto_map.ipynb)  \n",
        "      explicación detallada del cartograma.\n",
        "  - [z033_crear_carto_grande.ipynb](z033_crear_carto_grande.ipynb)  \n",
        "      produce el cartogram grande en html\n",
        "  - [z040_viz_clusters.ipynb](z040_viz_clusters.ipynb)  \n",
        "      analisis de clusters con kmeans\n",
        "  - [z050_mostrar_mesas_faltantes.ipynb](z050_mostrar_mesas_faltantes.ipynb)  \n",
        "      mostramos las mesas faltantes en función del tiempo de llegada "
      ]
    },
    {
      "cell_type": "code",
      "metadata": {
        "id": "O1Gcm_FLo40t"
      },
      "source": [
        ""
      ],
      "execution_count": null,
      "outputs": []
    }
  ]
}