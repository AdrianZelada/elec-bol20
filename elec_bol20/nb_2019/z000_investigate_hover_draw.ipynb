{
 "cells": [
  {
   "cell_type": "code",
   "execution_count": null,
   "metadata": {
    "lines_to_next_cell": 0
   },
   "outputs": [],
   "source": [
    "from elec_bol20 import *\n",
    "import elec_bol20.util as ebu"
   ]
  },
  {
   "cell_type": "code",
   "execution_count": null,
   "metadata": {
    "lines_to_next_cell": 2
   },
   "outputs": [],
   "source": [
    "from bokeh.models import ColumnDataSource, CustomJS, HoverTool\n",
    "from bokeh.plotting import figure, output_file, show\n",
    "\n",
    "output_file(\"hover_callback.html\")\n",
    "\n",
    "# define some points and a little graph between them\n",
    "x = [2, 3, 5, 6, 8, 7]\n",
    "y = [6, 4, 3, 8, 7, 5]\n",
    "links = {\n",
    "    0: [1, 2],\n",
    "    1: [0, 3, 4],\n",
    "    2: [0, 5],\n",
    "    3: [1, 4],\n",
    "    4: [1, 3],\n",
    "    5: [2, 3, 4]\n",
    "}\n",
    "\n",
    "p = figure(plot_width=400, plot_height=400, tools=\"\",\n",
    "           toolbar_location=None, title='Hover over points')\n",
    "\n",
    "p1 = figure(plot_width=400, plot_height=400, tools=\"\",\n",
    "           toolbar_location=None, title='Hover over points')\n",
    "\n",
    "source = ColumnDataSource({'x0': [], 'y0': [], 'x1': [], 'y1': []})\n",
    "\n",
    "sr = p1.segment(x0='x0', y0='y0', x1='x1', y1='y1',\n",
    "               color='olive', alpha=0.6, line_width=3, source=source, )\n",
    "\n",
    "cr = p.circle(x, y, color='olive', size=30,\n",
    "              alpha=0.4, hover_color='olive', hover_alpha=1.0)\n",
    "\n",
    "# add a hover tool that sets the link data for a hovered circle\n",
    "code = \"\"\"\n",
    "const links = %s\n",
    "const data = {'x0': [], 'y0': [], 'x1': [], 'y1': []}\n",
    "const indices = cb_data.index.indices\n",
    "for (var i = 0; i < indices.length; i++) {\n",
    "    const start = indices[i]\n",
    "    for (var j = 0; j < links[start].length; j++) {\n",
    "        const end = links[start][j]\n",
    "        data['x0'].push(circle.data.x[start])\n",
    "        data['y0'].push(circle.data.y[start])\n",
    "        data['x1'].push(circle.data.x[end])\n",
    "        data['y1'].push(circle.data.y[end])\n",
    "    }\n",
    "}\n",
    "segment.data = data\n",
    "\"\"\" % links\n",
    "\n",
    "callback = CustomJS(args={'circle': cr.data_source, 'segment': sr.data_source}, code=code)\n",
    "p.add_tools(HoverTool(tooltips=None, callback=callback, renderers=[cr]))\n",
    "\n",
    "show(\n",
    "bokeh.models.Row(p,p1),\n",
    "     browser='safari')"
   ]
  },
  {
   "cell_type": "code",
   "execution_count": null,
   "metadata": {
    "lines_to_next_cell": 0
   },
   "outputs": [],
   "source": []
  },
  {
   "cell_type": "code",
   "execution_count": null,
   "metadata": {
    "lines_to_next_cell": 0
   },
   "outputs": [],
   "source": []
  },
  {
   "cell_type": "code",
   "execution_count": null,
   "metadata": {},
   "outputs": [],
   "source": []
  }
 ],
 "metadata": {
  "jupytext": {
   "cell_metadata_filter": "-all",
   "encoding": "# -*- coding: utf-8 -*-",
   "formats": "ipynb,py:percent"
  },
  "kernelspec": {
   "display_name": "ebol20",
   "language": "python",
   "name": "ebol20"
  }
 },
 "nbformat": 4,
 "nbformat_minor": 4
}
